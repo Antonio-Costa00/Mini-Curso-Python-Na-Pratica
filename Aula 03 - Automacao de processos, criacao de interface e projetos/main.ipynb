{
 "cells": [
  {
   "cell_type": "markdown",
   "metadata": {},
   "source": [
    "# 🚀 **Aula 03 - Automação de processos, criação de interfaces e projetos!**"
   ]
  },
  {
   "cell_type": "markdown",
   "metadata": {},
   "source": [
    "## Nesta aula estaremos construindo interfaces gráficas para o úsuario final e realizando automação de processos, utilizando as bibliotecas **pyautogui** para automação de processos, **Selenium** para automação web e **PySimpleGUI** para construção das interfaces."
   ]
  },
  {
   "cell_type": "markdown",
   "metadata": {},
   "source": [
    "---"
   ]
  },
  {
   "cell_type": "markdown",
   "metadata": {},
   "source": [
    "# **1. Criacao de interfaces**  ⚡"
   ]
  },
  {
   "cell_type": "markdown",
   "metadata": {},
   "source": [
    "<img src=\"images/interface.jpg\" alt=\"Drawing\" style=\"width: 400px;\"/>"
   ]
  },
  {
   "cell_type": "markdown",
   "metadata": {},
   "source": [
    "## Geralmente quando falamos nna criacao de interfaces para o usuario final é um procedimento demorado, no entanto, com Python é uma tarefa simples, utilizando a biblioteca **PySimpleGUI**."
   ]
  },
  {
   "cell_type": "markdown",
   "metadata": {},
   "source": [
    "## **1.1 O que é GUI?**"
   ]
  },
  {
   "cell_type": "markdown",
   "metadata": {},
   "source": [
    "### GUI - Graphical user interface (Interface gráfica do utilizador) <br>\n",
    "### Em informática, interface gráfica do utilizador ou usuário é um tipo de interface do utilizador que permite a interação com dispositivos digitais por meio de elementos gráficos como ícones e outros indicadores visuais, em contraste a interface de linha."
   ]
  },
  {
   "cell_type": "markdown",
   "metadata": {},
   "source": [
    "## **1.2 Instalando a biblioteca PySimpleGUI**"
   ]
  },
  {
   "cell_type": "markdown",
   "metadata": {},
   "source": [
    "### Para instalarmos a bibliotca iremos utilizar o seguinte comando"
   ]
  },
  {
   "cell_type": "code",
   "execution_count": null,
   "metadata": {},
   "outputs": [],
   "source": [
    "!pip install PySimpleGUI"
   ]
  },
  {
   "cell_type": "markdown",
   "metadata": {},
   "source": [
    "## **1.3 Criando nossa primeira tela**"
   ]
  },
  {
   "cell_type": "markdown",
   "metadata": {},
   "source": [
    "### Com a biblioteca PySimpleGUI é muito facil criar uma interface gráfica. <br>\n",
    "### Segue abaixo a criacao de nossa primeira interface com apenas uma **linha de código**"
   ]
  },
  {
   "cell_type": "code",
   "execution_count": null,
   "metadata": {},
   "outputs": [],
   "source": [
    "import PySimpleGUI as sg"
   ]
  },
  {
   "cell_type": "code",
   "execution_count": null,
   "metadata": {},
   "outputs": [],
   "source": [
    "sg.popup('Minha primeira tela!', 'Minha primeira tela com apenas uma linha de código!')"
   ]
  },
  {
   "cell_type": "markdown",
   "metadata": {},
   "source": [
    "### Que tal uma GUI customizada para usuario final com apenas uma linha de código?"
   ]
  },
  {
   "cell_type": "code",
   "execution_count": null,
   "metadata": {},
   "outputs": [],
   "source": [
    "event, values = sg.Window('Colete o nome do arquivo', [[sg.Text('Nome do arquivo')], [sg.Input(), sg.FileBrowse(button_text = 'Buscar')], [sg.OK(), sg.Cancel(button_text = 'Cancelar')] ]).read(close=True)"
   ]
  },
  {
   "cell_type": "markdown",
   "metadata": {},
   "source": [
    "## The Beauty of Simplicity \n",
    "##  One day I will find the right words, and they will be simple. ― Jack Kerouac"
   ]
  },
  {
   "cell_type": "markdown",
   "metadata": {},
   "source": [
    "### É bom que você possa dividir as coisas em uma linha, como no exemplo acima, mas não é legível. <br>\n",
    "### Vamos adicionar alguns espaços em branco para que você possa ver a beleza do código **PySimpleGUI**."
   ]
  },
  {
   "cell_type": "code",
   "execution_count": null,
   "metadata": {},
   "outputs": [],
   "source": [
    "sg.theme('DarkRed')  # Vamos definir o tema do programa\n",
    "\n",
    "layout = [  [sg.Text('Nome do Arquivo')],\n",
    "            [sg.Input(), sg.FileBrowse(button_text = 'Buscar')], \n",
    "            [sg.OK(), sg.Cancel(button_text = 'Cancelar')]] \n",
    "\n",
    "window = sg.Window('Colete o nome do arquivo', layout)\n",
    "\n",
    "evento, valores = window.read()\n",
    "window.close()"
   ]
  },
  {
   "cell_type": "markdown",
   "metadata": {},
   "source": [
    "## **1.4 Lista de temas**"
   ]
  },
  {
   "cell_type": "markdown",
   "metadata": {},
   "source": [
    "### A biblioteca contém varios temas pré definidos. <br>\n",
    "### Caso o programador deseje ver o nome de todos basta chamar a seguinte funcao"
   ]
  },
  {
   "cell_type": "code",
   "execution_count": null,
   "metadata": {},
   "outputs": [],
   "source": [
    "lista_de_temas = sg.theme_list()\n",
    "print(lista_de_temas)"
   ]
  },
  {
   "cell_type": "markdown",
   "metadata": {},
   "source": [
    "### E para visualizar todos"
   ]
  },
  {
   "cell_type": "code",
   "execution_count": null,
   "metadata": {},
   "outputs": [],
   "source": [
    "sg.theme_previewer()"
   ]
  },
  {
   "cell_type": "markdown",
   "metadata": {},
   "source": [
    "### Ou melhor, podemos criar uma GUI interativa para o suario ter um preview de cada tema."
   ]
  },
  {
   "cell_type": "code",
   "execution_count": null,
   "metadata": {},
   "outputs": [],
   "source": [
    "sg.theme('DarkTeal9') #Tema padrão\n",
    "  \n",
    "layout = [[sg.Text('Lista de temas pré prontos')],\n",
    "          [sg.Text('Escolha um tema para ter uma pré visualicao')],\n",
    "          [sg.Listbox(values = sg.theme_list(),\n",
    "                      size =(20, 12),\n",
    "                      key ='-LIST-',\n",
    "                      enable_events = True)],\n",
    "          [sg.Button('Sair')]]\n",
    "  \n",
    "janela = sg.Window('Lista de temas', layout)\n",
    "  \n",
    "# Evento para permanecer na tela\n",
    "while True:  \n",
    "    evento, valores = janela.read()\n",
    "    # Se o evento for sair ou cancelar quebrar o loop, o que fara a janela fechar. \n",
    "    if evento in (None, 'Sair'):\n",
    "        break\n",
    "          \n",
    "    nome_tema = valores['-LIST-'][0]\n",
    "    sg.theme(nome_tema)\n",
    "    sg.popup_get_text(f'Este é o tema {nome_tema}')\n",
    "      \n",
    "# Fechar a janela\n",
    "janela.close()\n"
   ]
  },
  {
   "cell_type": "markdown",
   "metadata": {},
   "source": [
    "---"
   ]
  },
  {
   "cell_type": "markdown",
   "metadata": {},
   "source": [
    "# **2. Automação de processos** ⚡"
   ]
  },
  {
   "cell_type": "markdown",
   "metadata": {},
   "source": [
    "### Para automação de processos em geral iremos utilizar a biblioteca **Pyautogui** e para automacao na web especificos iremos utilizar a biblioteca **Selenium**  "
   ]
  },
  {
   "cell_type": "markdown",
   "metadata": {},
   "source": [
    "---"
   ]
  },
  {
   "cell_type": "markdown",
   "metadata": {},
   "source": [
    "# **3. Pyautogui** ⚡"
   ]
  },
  {
   "cell_type": "markdown",
   "metadata": {},
   "source": [
    "### **pyautogui** é um módulo de automação de GUI para Python3 que fornece métodos para controlar mouse e teclado. <br>\n",
    "### Esse módulo pode ser usado para criar bots para automatizar tarefas repetitivas, enquanto você pode desfrutar do seu café."
   ]
  },
  {
   "cell_type": "markdown",
   "metadata": {},
   "source": [
    "### “Pyautogui pode fazer qualquer coisa que um usuário humano sentado na frente do computador pode fazer, exceto derramar café no teclado”, diz o geek responsável por esse módulo."
   ]
  },
  {
   "cell_type": "markdown",
   "metadata": {},
   "source": [
    "## **3.1 Importando módulos**"
   ]
  },
  {
   "cell_type": "code",
   "execution_count": null,
   "metadata": {},
   "outputs": [],
   "source": [
    "!pip install PyAutoGUI"
   ]
  },
  {
   "cell_type": "code",
   "execution_count": null,
   "metadata": {},
   "outputs": [],
   "source": [
    "import pyautogui as pg\n",
    "import time"
   ]
  },
  {
   "cell_type": "markdown",
   "metadata": {},
   "source": [
    "## **3.2 Escrevendo texto no bloco de notas**"
   ]
  },
  {
   "cell_type": "markdown",
   "metadata": {},
   "source": [
    "### Para nosso primeiro exemplo, iremos criar uma funcao que escrever algumas frases no bloco de notas de forma automática."
   ]
  },
  {
   "cell_type": "code",
   "execution_count": null,
   "metadata": {},
   "outputs": [],
   "source": [
    "def escrever_bloco_de_notas():\n",
    "    time.sleep(0.5)\n",
    "    pg.press('winleft')\n",
    "    time.sleep(1)\n",
    "    pg.write('bloco de notas', interval = 0.1)\n",
    "    time.sleep(1)\n",
    "    pg.press('enter')\n",
    "    time.sleep(2)\n",
    "    comidas = ['arroz', 'macarrao', 'feijao', 'pao de queijo', 'frango', 'camarao']\n",
    "    for comida in comidas:\n",
    "        pg.write(comida.capitalize() + '\\n', interval = 0.1)\n",
    "    time.sleep(1)\n",
    "    pg.hotkey('ctrl', 's')\n",
    "    time.sleep(2)\n",
    "    pg.write('Lista de Comidas')\n",
    "    pg.press(\"tab\", presses=4, interval= 0.1)\n",
    "    time.sleep(0.5)\n",
    "    pg.press('enter')"
   ]
  },
  {
   "cell_type": "code",
   "execution_count": null,
   "metadata": {},
   "outputs": [],
   "source": [
    "escrever_bloco_de_notas()"
   ]
  },
  {
   "cell_type": "markdown",
   "metadata": {},
   "source": [
    "### **OBS:** <br>\n",
    "\n",
    "### Para parar de executar o programa simplesmente coloque o mouse na posicao (0,0) da tela"
   ]
  },
  {
   "cell_type": "markdown",
   "metadata": {},
   "source": [
    "<img src=\"images/Coordenadas.png\" alt=\"Drawing\" style=\"width: 400px;\"/>"
   ]
  },
  {
   "cell_type": "markdown",
   "metadata": {},
   "source": [
    "## **3.3 clicando em coordenadas específicas**"
   ]
  },
  {
   "cell_type": "code",
   "execution_count": null,
   "metadata": {},
   "outputs": [],
   "source": [
    "pg.click(x=100, y=200)"
   ]
  },
  {
   "cell_type": "markdown",
   "metadata": {},
   "source": [
    "---"
   ]
  },
  {
   "cell_type": "markdown",
   "metadata": {},
   "source": [
    "# **4. Selenium** ⚡"
   ]
  },
  {
   "cell_type": "markdown",
   "metadata": {},
   "source": [
    "### **Selenium**, nada mais é, do que uma biblioteca que permite com que o programa abra o seu navegador para executar os comandos desejados."
   ]
  },
  {
   "cell_type": "markdown",
   "metadata": {},
   "source": [
    "### **Selenium** é totalmente implementado e compatível com JavaScript (Node.js), Python, Ruby, Java e C#"
   ]
  },
  {
   "cell_type": "markdown",
   "metadata": {},
   "source": [
    "## **4.1 Instalando e importando pacotes**"
   ]
  },
  {
   "cell_type": "markdown",
   "metadata": {},
   "source": [
    "### Para utilizarmos o Selenium, além de importar as bibliotecas necessárias iremos precisar de um web driver."
   ]
  },
  {
   "cell_type": "markdown",
   "metadata": {},
   "source": [
    "### Para esse curso, irei estar utilizando o web driver do google chrome."
   ]
  },
  {
   "cell_type": "code",
   "execution_count": null,
   "metadata": {},
   "outputs": [],
   "source": [
    "!pip install selenium"
   ]
  },
  {
   "cell_type": "code",
   "execution_count": null,
   "metadata": {},
   "outputs": [],
   "source": [
    "from selenium import webdriver\n",
    "from selenium.webdriver.chrome.options import Options"
   ]
  },
  {
   "cell_type": "markdown",
   "metadata": {},
   "source": [
    "## **4.2 Automatizendo busca de produtos aliexpress**"
   ]
  },
  {
   "cell_type": "markdown",
   "metadata": {},
   "source": [
    "### Com selenium, podemos simular todos os tipos de comandos humanos em um website. <br>\n",
    "### Vejamos um pequeno exemplo abaixo:"
   ]
  },
  {
   "cell_type": "code",
   "execution_count": null,
   "metadata": {},
   "outputs": [],
   "source": [
    "def busca_de_produtos(produto):\n",
    "    driver = webdriver.Chrome()\n",
    "    site = 'https://www.aliexpress.com'\n",
    "    driver.get(site)\n",
    "    barra_de_pesquisa = driver.find_element_by_xpath('//*[@id=\"search-key\"]')\n",
    "    barra_de_pesquisa.send_keys(produto)\n",
    "    driver.implicitly_wait(10)\n",
    "    icone_pesquisa = driver.find_element_by_xpath('//*[@id=\"form-searchbar\"]/div[1]/input')\n",
    "    icone_pesquisa.click()\n",
    "    driver.implicitly_wait(10)\n",
    "    driver.close()\n",
    "produto_procurado = input(\"Digite o nome do produto: \")\n",
    "busca_de_produtos(produto_procurado)"
   ]
  },
  {
   "cell_type": "markdown",
   "metadata": {},
   "source": [
    "---"
   ]
  },
  {
   "cell_type": "markdown",
   "metadata": {},
   "source": [
    "# **5. Projeto final - Desenvolvendo novos fornecedores no site do Alibaba** ⚡"
   ]
  },
  {
   "cell_type": "markdown",
   "metadata": {},
   "source": [
    "### Como projeto final de nosso curso, estaremos desenvolvendo um programa para desenvolver novos fornecedores de determinado produto no site do alibaba, utilizando interface gráfica, coleta de dados, automacao de processos e web scraping."
   ]
  },
  {
   "cell_type": "markdown",
   "metadata": {},
   "source": [
    "## **5.1 Descrição do projeto**"
   ]
  },
  {
   "cell_type": "markdown",
   "metadata": {},
   "source": [
    "### Criar um programa com interface gráfica para o usuário final, que recebe um input de um produto e seja capaz de\n",
    "- ### Coletar o website, nome da empresa e os principis produtos de cada fornecedor\n",
    "- ### Dar ao usuario final o controle de quantos fornecedores se deseja\n",
    "- ### Retornar um arquivo do tipo excel, com os dados coletados de cada fornecedor\n",
    "- ### Contatar os fornecedores automaticamente, com uma mensagem escolhida pelo usuário\n",
    "- ### Criar uma opção onde o usuário possa escolher se quer apenas os dados de cada fornecedor (1) ou contatar-los automaticamente (2)\n",
    "- ### Retornar o tempo total da operacao (1) ou (2)"
   ]
  },
  {
   "cell_type": "markdown",
   "metadata": {},
   "source": [
    "---"
   ]
  }
 ],
 "metadata": {
  "interpreter": {
   "hash": "744e24d0957d42ad7b50819cc35ccf6cbf1ffdc9fa43baec5a1b56cdf1a86f6e"
  },
  "kernelspec": {
   "display_name": "Python 3.9.7 64-bit",
   "name": "python3"
  },
  "language_info": {
   "codemirror_mode": {
    "name": "ipython",
    "version": 3
   },
   "file_extension": ".py",
   "mimetype": "text/x-python",
   "name": "python",
   "nbconvert_exporter": "python",
   "pygments_lexer": "ipython3",
   "version": "3.9.7"
  },
  "orig_nbformat": 4
 },
 "nbformat": 4,
 "nbformat_minor": 2
}
