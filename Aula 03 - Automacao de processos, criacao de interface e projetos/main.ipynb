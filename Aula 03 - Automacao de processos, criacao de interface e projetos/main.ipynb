{
 "cells": [
  {
   "cell_type": "markdown",
   "metadata": {},
   "source": [
    "# 🚀 **Aula 03 - Automacao de processos, criacao de interface e projetos!**"
   ]
  },
  {
   "cell_type": "markdown",
   "metadata": {},
   "source": [
    "## Nesta aula estaremos construindo uma interface gráfica para o usuario final e realizando automacao de processos, utilizando as bibliotecas **pyautogui** para automacao e **PySimpleGUI** para criacao das interfaces."
   ]
  },
  {
   "cell_type": "markdown",
   "metadata": {},
   "source": [
    "---"
   ]
  },
  {
   "cell_type": "markdown",
   "metadata": {},
   "source": [
    "# **1. Criacao de interfaces**  ⚡"
   ]
  },
  {
   "cell_type": "markdown",
   "metadata": {},
   "source": [
    "<img src=\"images/interface.jpg\" alt=\"Drawing\" style=\"width: 400px;\"/>"
   ]
  },
  {
   "cell_type": "markdown",
   "metadata": {},
   "source": [
    "## Geralmente quando falamos nna criacao de interfaces para o usuario final é um procedimento demorado, no entanto, com Python é uma tarefa simples, utilizando a biblioteca **PySimpleGUI**."
   ]
  },
  {
   "cell_type": "markdown",
   "metadata": {},
   "source": [
    "## **1.1 O que é GUI?**"
   ]
  },
  {
   "cell_type": "markdown",
   "metadata": {},
   "source": [
    "### GUI - Graphical user interface (Interface gráfica do utilizador) <br>\n",
    "### Em informática, interface gráfica do utilizador ou usuário é um tipo de interface do utilizador que permite a interação com dispositivos digitais por meio de elementos gráficos como ícones e outros indicadores visuais, em contraste a interface de linha."
   ]
  },
  {
   "cell_type": "markdown",
   "metadata": {},
   "source": [
    "## **1.2 Instalando a biblioteca PySimpleGUI**"
   ]
  },
  {
   "cell_type": "markdown",
   "metadata": {},
   "source": [
    "### Para instalarmos a bibliotca iremos utilizar o seguinte comando"
   ]
  },
  {
   "cell_type": "code",
   "execution_count": 1,
   "metadata": {},
   "outputs": [
    {
     "name": "stdout",
     "output_type": "stream",
     "text": [
      "Collecting PySimpleGUI\n",
      "  Downloading PySimpleGUI-4.53.0-py3-none-any.whl (374 kB)\n",
      "Installing collected packages: PySimpleGUI\n",
      "Successfully installed PySimpleGUI-4.53.0\n"
     ]
    },
    {
     "name": "stderr",
     "output_type": "stream",
     "text": [
      "WARNING: You are using pip version 21.2.3; however, version 21.3.1 is available.\n",
      "You should consider upgrading via the 'C:\\Users\\Antonio Costa - Dev\\AppData\\Local\\Programs\\Python\\Python39\\python.exe -m pip install --upgrade pip' command.\n"
     ]
    }
   ],
   "source": [
    "!pip install PySimpleGUI"
   ]
  },
  {
   "cell_type": "markdown",
   "metadata": {},
   "source": [
    "## **1.3 Criando nossa primeira tela**"
   ]
  },
  {
   "cell_type": "markdown",
   "metadata": {},
   "source": [
    "### Com a biblioteca PySimpleGUI é muito facil criar uma interface gráfica. <br>\n",
    "### Segue abaixo a criacao de nossa primeira interface com apenas uma **linha de código**"
   ]
  },
  {
   "cell_type": "code",
   "execution_count": 2,
   "metadata": {},
   "outputs": [],
   "source": [
    "import PySimpleGUI as sg"
   ]
  },
  {
   "cell_type": "code",
   "execution_count": 3,
   "metadata": {},
   "outputs": [
    {
     "data": {
      "text/plain": [
       "'OK'"
      ]
     },
     "execution_count": 3,
     "metadata": {},
     "output_type": "execute_result"
    }
   ],
   "source": [
    "sg.popup('Minha primeira tela!', 'Minha primeira tela com apenas uma linha de código!')"
   ]
  },
  {
   "cell_type": "markdown",
   "metadata": {},
   "source": [
    "### Que tal uma GUI customizada para usuario final com apenas uma linha de código?"
   ]
  },
  {
   "cell_type": "code",
   "execution_count": null,
   "metadata": {},
   "outputs": [],
   "source": [
    "event, values = sg.Window('Colete o nome do arquivo', [[sg.Text('Nome do arquivo')], [sg.Input(), sg.FileBrowse(button_text = 'Buscar')], [sg.OK(), sg.Cancel(button_text = 'Cancelar')] ]).read(close=True)"
   ]
  },
  {
   "cell_type": "markdown",
   "metadata": {},
   "source": [
    "## The Beauty of Simplicity \n",
    "##  One day I will find the right words, and they will be simple. ― Jack Kerouac"
   ]
  },
  {
   "cell_type": "markdown",
   "metadata": {},
   "source": [
    "### É bom que você possa dividir as coisas em uma linha, como no exemplo acima, mas não é legível. <br>\n",
    "### Vamos adicionar alguns espaços em branco para que você possa ver a beleza do código **PySimpleGUI**."
   ]
  },
  {
   "cell_type": "code",
   "execution_count": null,
   "metadata": {},
   "outputs": [],
   "source": [
    "sg.theme('Python')  # Vamos definir o tema do programa\n",
    "\n",
    "layout = [  [sg.Text('Nome do Arquivo')],\n",
    "            [sg.Input(), sg.FileBrowse(button_text = 'Buscar')], \n",
    "            [sg.OK(), sg.Cancel(button_text = 'Cancelar')]] \n",
    "\n",
    "window = sg.Window('Colete o nome do arquivo', layout)\n",
    "\n",
    "event, values = window.read()\n",
    "window.close()"
   ]
  },
  {
   "cell_type": "markdown",
   "metadata": {},
   "source": [
    "## **1.4 Lista de temas**"
   ]
  },
  {
   "cell_type": "markdown",
   "metadata": {},
   "source": [
    "### A biblioteca contém varios temas pré definidos. <br>\n",
    "### Caso o programador deseje ver o nome de todos basta chamar a seguinte funcao"
   ]
  },
  {
   "cell_type": "code",
   "execution_count": null,
   "metadata": {},
   "outputs": [],
   "source": [
    "theme_name_list = sg.theme_list()\n",
    "print(theme_name_list)"
   ]
  },
  {
   "cell_type": "markdown",
   "metadata": {},
   "source": [
    "### E para visualizar todos"
   ]
  },
  {
   "cell_type": "code",
   "execution_count": null,
   "metadata": {},
   "outputs": [],
   "source": [
    "sg.theme_previewer()"
   ]
  },
  {
   "cell_type": "markdown",
   "metadata": {},
   "source": [
    "### Ou melhor, podemos criar uma GUI interativa para o suario ter um preview de cada tema."
   ]
  },
  {
   "cell_type": "code",
   "execution_count": null,
   "metadata": {},
   "outputs": [],
   "source": [
    "sg.theme('DarkTeal9') #Tema padrão\n",
    "  \n",
    "layout = [[sg.Text('Lista de temas pré prontos')],\n",
    "          [sg.Text('Escolha um tema para ter uma pré visualicao')],\n",
    "          [sg.Listbox(values = sg.theme_list(),\n",
    "                      size =(20, 12),\n",
    "                      key ='-LIST-',\n",
    "                      enable_events = True)],\n",
    "          [sg.Button('Sair')]]\n",
    "  \n",
    "window = sg.Window('Lista de temas', layout)\n",
    "  \n",
    "# Evento para permanecer na tela\n",
    "while True:  \n",
    "    evento, valores = window.read()\n",
    "    # Se o evento for sair ou cancelar quebrar o loop, o que fara a janela fechar. \n",
    "    if evento in (None, 'Sair'):\n",
    "        break\n",
    "          \n",
    "    sg.theme(valores['-LIST-'][0])\n",
    "    nome_tema = valores['-LIST-'][0]\n",
    "    sg.popup_get_text(f'Este é o tema {nome_tema}')\n",
    "      \n",
    "# Fechar a janela\n",
    "window.close()\n"
   ]
  },
  {
   "cell_type": "markdown",
   "metadata": {},
   "source": [
    "---"
   ]
  },
  {
   "cell_type": "markdown",
   "metadata": {},
   "source": [
    "# **2. Automação de processos** ⚡"
   ]
  },
  {
   "cell_type": "markdown",
   "metadata": {},
   "source": [
    "### Para automação de processos em geral iremos utilizar a biblioteca **Pyautogui** e para automacao na web especificos iremos utilizar a biblioteca **Selenium**  "
   ]
  },
  {
   "cell_type": "markdown",
   "metadata": {},
   "source": [
    "---"
   ]
  },
  {
   "cell_type": "markdown",
   "metadata": {},
   "source": [
    "# **3. Pyautogui** ⚡"
   ]
  },
  {
   "cell_type": "markdown",
   "metadata": {},
   "source": [
    "### **pyautogui** é um módulo de automação de GUI para Python3 que fornece métodos para controlar mouse e teclado. <br>\n",
    "### Esse módulo pode ser usado para criar bots para automatizar tarefas repetitivas, enquanto você pode desfrutar do seu café."
   ]
  },
  {
   "cell_type": "markdown",
   "metadata": {},
   "source": [
    "### “Pyautogui pode fazer qualquer coisa que um usuário humano sentado na frente do computador pode fazer, exceto derramar café no teclado”, diz o geek responsável por esse módulo."
   ]
  },
  {
   "cell_type": "markdown",
   "metadata": {},
   "source": [
    "## **3.1 Importando módulos**"
   ]
  },
  {
   "cell_type": "code",
   "execution_count": null,
   "metadata": {},
   "outputs": [],
   "source": [
    "import pyautogui as pg\n",
    "import time\n",
    "import keyboard"
   ]
  },
  {
   "cell_type": "markdown",
   "metadata": {},
   "source": [
    "## **3.2 Escrevendo texto no bloco de notas**"
   ]
  },
  {
   "cell_type": "markdown",
   "metadata": {},
   "source": [
    "### Para nosso primeiro exemplo, iremos criar uma funcao que escrever algumas frases no bloco de notas de forma automática."
   ]
  },
  {
   "cell_type": "markdown",
   "metadata": {},
   "source": [
    "### **OBS:** <br>\n",
    "\n",
    "### Para parar de executar o programa simplesmente coloque o mouse na posicao (0,0) da tela"
   ]
  },
  {
   "cell_type": "markdown",
   "metadata": {},
   "source": [
    "<img src=\"images/Coordenadas.png\" alt=\"Drawing\" style=\"width: 400px;\"/>"
   ]
  },
  {
   "cell_type": "markdown",
   "metadata": {},
   "source": [
    "## **3.3 clicando em coordenadas específicas**"
   ]
  },
  {
   "cell_type": "markdown",
   "metadata": {},
   "source": [
    "---"
   ]
  },
  {
   "cell_type": "markdown",
   "metadata": {},
   "source": [
    "# **4. Selenium** ⚡"
   ]
  },
  {
   "cell_type": "markdown",
   "metadata": {},
   "source": [
    "### **Selenium**, nada mais é, do que uma biblioteca que permite com que o programa abra o seu navegador para executar os comandos desejados."
   ]
  },
  {
   "cell_type": "markdown",
   "metadata": {},
   "source": [
    "### **Selenium** é totalmente implementado e compatível com JavaScript (Node.js), Python, Ruby, Java e C#"
   ]
  },
  {
   "cell_type": "markdown",
   "metadata": {},
   "source": [
    "## **4.1 Instalando e importando pacotes**"
   ]
  },
  {
   "cell_type": "markdown",
   "metadata": {},
   "source": [
    "### Para utilizarmos o Selenium, além de importar as bibliotecas necessárias iremos precisar de um web driver."
   ]
  },
  {
   "cell_type": "markdown",
   "metadata": {},
   "source": [
    "### Para esse curso, irei estar utilizando o web driver do google chrome."
   ]
  },
  {
   "cell_type": "code",
   "execution_count": 1,
   "metadata": {},
   "outputs": [
    {
     "name": "stdout",
     "output_type": "stream",
     "text": [
      "Collecting selenium\n",
      "  Using cached selenium-4.0.0-py3-none-any.whl (954 kB)\n",
      "Collecting trio-websocket~=0.9\n",
      "  Using cached trio_websocket-0.9.2-py3-none-any.whl (16 kB)\n",
      "Collecting trio~=0.17\n",
      "  Using cached trio-0.19.0-py3-none-any.whl (356 kB)\n",
      "Requirement already satisfied: urllib3[secure]~=1.26 in c:\\users\\antonio costa - dev\\appdata\\local\\programs\\python\\python39\\lib\\site-packages (from selenium) (1.26.7)\n",
      "Collecting sortedcontainers\n",
      "  Using cached sortedcontainers-2.4.0-py2.py3-none-any.whl (29 kB)\n",
      "Collecting async-generator>=1.9\n",
      "  Using cached async_generator-1.10-py3-none-any.whl (18 kB)\n",
      "Collecting attrs>=19.2.0\n",
      "  Using cached attrs-21.2.0-py2.py3-none-any.whl (53 kB)\n",
      "Collecting cffi>=1.14\n",
      "  Downloading cffi-1.15.0-cp39-cp39-win_amd64.whl (180 kB)\n",
      "Collecting outcome\n",
      "  Using cached outcome-1.1.0-py2.py3-none-any.whl (9.7 kB)\n",
      "Requirement already satisfied: idna in c:\\users\\antonio costa - dev\\appdata\\local\\programs\\python\\python39\\lib\\site-packages (from trio~=0.17->selenium) (3.3)\n",
      "Collecting sniffio\n",
      "  Using cached sniffio-1.2.0-py3-none-any.whl (10 kB)\n",
      "Collecting pycparser\n",
      "  Using cached pycparser-2.20-py2.py3-none-any.whl (112 kB)\n",
      "Collecting wsproto>=0.14\n",
      "  Using cached wsproto-1.0.0-py3-none-any.whl (24 kB)\n",
      "Collecting pyOpenSSL>=0.14\n",
      "  Using cached pyOpenSSL-21.0.0-py2.py3-none-any.whl (55 kB)\n",
      "Requirement already satisfied: certifi in c:\\users\\antonio costa - dev\\appdata\\local\\programs\\python\\python39\\lib\\site-packages (from urllib3[secure]~=1.26->selenium) (2021.10.8)\n",
      "Collecting cryptography>=1.3.4\n",
      "  Using cached cryptography-35.0.0-cp36-abi3-win_amd64.whl (2.1 MB)\n",
      "Requirement already satisfied: six>=1.5.2 in c:\\users\\antonio costa - dev\\appdata\\local\\programs\\python\\python39\\lib\\site-packages (from pyOpenSSL>=0.14->urllib3[secure]~=1.26->selenium) (1.16.0)\n",
      "Collecting h11<1,>=0.9.0\n",
      "  Using cached h11-0.12.0-py3-none-any.whl (54 kB)\n",
      "Installing collected packages: pycparser, cffi, attrs, sortedcontainers, sniffio, outcome, h11, cryptography, async-generator, wsproto, trio, pyOpenSSL, trio-websocket, selenium\n",
      "Successfully installed async-generator-1.10 attrs-21.2.0 cffi-1.15.0 cryptography-35.0.0 h11-0.12.0 outcome-1.1.0 pyOpenSSL-21.0.0 pycparser-2.20 selenium-4.0.0 sniffio-1.2.0 sortedcontainers-2.4.0 trio-0.19.0 trio-websocket-0.9.2 wsproto-1.0.0\n"
     ]
    },
    {
     "name": "stderr",
     "output_type": "stream",
     "text": [
      "WARNING: You are using pip version 21.2.3; however, version 21.3.1 is available.\n",
      "You should consider upgrading via the 'C:\\Users\\Antonio Costa - Dev\\AppData\\Local\\Programs\\Python\\Python39\\python.exe -m pip install --upgrade pip' command.\n"
     ]
    }
   ],
   "source": [
    "!pip install selenium"
   ]
  },
  {
   "cell_type": "code",
   "execution_count": 2,
   "metadata": {},
   "outputs": [],
   "source": [
    "from selenium import webdriver\n",
    "from selenium.webdriver.chrome.options import Options"
   ]
  },
  {
   "cell_type": "markdown",
   "metadata": {},
   "source": [
    "## **4.2 Automatizendo busca de produtos aliexpress**"
   ]
  },
  {
   "cell_type": "markdown",
   "metadata": {},
   "source": [
    "### Com selenium, podemos simular todos os tipos de comandos humanos em um website. <br>\n",
    "### Vejamos um pequeno exemplo abaixo:"
   ]
  },
  {
   "cell_type": "markdown",
   "metadata": {},
   "source": [
    "---"
   ]
  },
  {
   "cell_type": "markdown",
   "metadata": {},
   "source": [
    "### É possível clicar em coordenadas especificas com a biblioteca Pyautogui. Vejamos abaixo um exemplo:"
   ]
  },
  {
   "cell_type": "markdown",
   "metadata": {},
   "source": [
    "# **5. Projeto final - Desenvolvendo novos fornecedores no site do Alibaba** ⚡"
   ]
  },
  {
   "cell_type": "markdown",
   "metadata": {},
   "source": [
    "### Como projeto final de nosso curso, estaremos desenvolvendo um programa para desenvolver novos fornecedores de determinado produto no site do alibaba, utilizando interface gráfica, coleta de dados, automacao de processos e web scraping."
   ]
  },
  {
   "cell_type": "markdown",
   "metadata": {},
   "source": [
    "## **5.1 Descrição do projeto**"
   ]
  },
  {
   "cell_type": "markdown",
   "metadata": {},
   "source": [
    "### Criar um programa com interface gráfica para o usuário final, que recebe um input de um produto e seja capaz de\n",
    "- ### Coletar o website, nome da empresa e os principis produtos de cada fornecedor\n",
    "- ### Dar ao usuario final o controle de quantos fornecedores se deseja\n",
    "- ### Retornar um arquivo do tipo excel, com os dados coletados de cada fornecedor\n",
    "- ### Contatar os fornecedores automaticamente, com uma mensagem escolhida pelo usuário\n",
    "- ### Criar uma opção onde o usuário possa escolher se quer apenas os dados de cada fornecedor (1) ou contatar-los automaticamente (2)\n",
    "- ### Retornar o tempo total da operacao (1) ou (2)"
   ]
  },
  {
   "cell_type": "markdown",
   "metadata": {},
   "source": [
    "---"
   ]
  }
 ],
 "metadata": {
  "interpreter": {
   "hash": "3ab92b8776bd6db82bb5c0767e875b4073e50e02af11cd0b3337cf610213e0ce"
  },
  "kernelspec": {
   "display_name": "Python 3.9.7 64-bit",
   "name": "python3"
  },
  "language_info": {
   "codemirror_mode": {
    "name": "ipython",
    "version": 3
   },
   "file_extension": ".py",
   "mimetype": "text/x-python",
   "name": "python",
   "nbconvert_exporter": "python",
   "pygments_lexer": "ipython3",
   "version": "3.9.7"
  },
  "orig_nbformat": 4
 },
 "nbformat": 4,
 "nbformat_minor": 2
}
