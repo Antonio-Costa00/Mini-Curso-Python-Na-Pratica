{
 "cells": [
  {
   "cell_type": "markdown",
   "metadata": {},
   "source": [
    "# 🚀 **Aula 02: Parte 01 - Conceitos sobre web scraping**"
   ]
  },
  {
   "cell_type": "markdown",
   "metadata": {},
   "source": [
    "## Nesta aula iremos estar aprendendo sobre os conceitos por traz da técnica de **web scraping**"
   ]
  },
  {
   "cell_type": "markdown",
   "metadata": {},
   "source": [
    "---"
   ]
  },
  {
   "cell_type": "markdown",
   "metadata": {},
   "source": [
    "# **1. O que é Web scraping?**  ⚡"
   ]
  },
  {
   "cell_type": "markdown",
   "metadata": {},
   "source": [
    "## Web scraping se trata de raspagem"
   ]
  },
  {
   "cell_type": "markdown",
   "metadata": {},
   "source": [
    "<img src=\"images/raspagem.jpg\" alt=\"Drawing\" style=\"width: 400px;\"/>"
   ]
  },
  {
   "cell_type": "markdown",
   "metadata": {},
   "source": [
    "### Raspagem de dados"
   ]
  },
  {
   "cell_type": "markdown",
   "metadata": {},
   "source": [
    "## Antes de tudo, vamos diferenciar web scraping de web crawling"
   ]
  },
  {
   "cell_type": "markdown",
   "metadata": {},
   "source": [
    "## **Web crawling**"
   ]
  },
  {
   "cell_type": "markdown",
   "metadata": {},
   "source": [
    "- ### Ato de baixar automaticamente os dados de uma página web, extrair os hiperlinks contidos nela e segui-los. \n",
    "- ### Os dados baixados são geralmente armazenados em um índice ou banco de dados para facilitar sua busca. \n",
    "- ### Web crawling, também conhecido como Indexação, é usado para indexar as informações em uma página web usando bots, também chamados de crawlers. \n",
    "- ### Web Crawlers são basicamente utilizados pelos principais motores de busca como o Google, Bing e Yahoo."
   ]
  },
  {
   "cell_type": "markdown",
   "metadata": {},
   "source": [
    "## **Web scraping**"
   ]
  },
  {
   "cell_type": "markdown",
   "metadata": {},
   "source": [
    "- ### Web scraping ou raspagem da web é o processo de coleta de dados estruturados da web de maneira automatizada. <br>\n",
    "- ### Também é chamado de extração de dados da web. <br>\n",
    "- ### Alguns dos principais casos de uso do web scraping incluem monitoramento de preços, inteligência de preços, monitoramento de notícias, geração de leads e pesquisa de mercado, entre muitos outros."
   ]
  },
  {
   "cell_type": "markdown",
   "metadata": {},
   "source": [
    "## **Em resumo**"
   ]
  },
  {
   "cell_type": "markdown",
   "metadata": {},
   "source": [
    "- ### Com Web Crawling obtemos informações genéricas\n",
    "- ### com Web Scraping, obtemos informações específicas."
   ]
  },
  {
   "cell_type": "markdown",
   "metadata": {},
   "source": [
    "---"
   ]
  },
  {
   "cell_type": "markdown",
   "metadata": {},
   "source": [
    "# **2. Para que serve o web scraping?** ⚡"
   ]
  },
  {
   "cell_type": "markdown",
   "metadata": {},
   "source": [
    "## O universo de aplicações de web scraping é bastante vasto. <br>\n",
    "## Abaixo, falaremos sobre algumas das aplicações mais comuns"
   ]
  },
  {
   "cell_type": "markdown",
   "metadata": {},
   "source": [
    "## **2.1 Inteligência de preço**"
   ]
  },
  {
   "cell_type": "markdown",
   "metadata": {},
   "source": [
    "### Inteligência de preço​ é provavelmente o maior uso para web scraping. <br> \n",
    "### Extrair informações de produtos e preços de sites de comércio eletrônico e, em seguida, transformá-las em inteligência é uma parte importante das empresas de comércio eletrônico modernas que desejam tomar melhores decisões de preços / marketing com base em dados."
   ]
  },
  {
   "cell_type": "markdown",
   "metadata": {},
   "source": [
    "### Como os dados de preços da web e inteligência de preços podem ser úteis?\n",
    "- ### Precificação dinâmica\n",
    "- ### Otimização de receita\n",
    "- ### Monitoramento do concorrente\n",
    "- ### Monitoramento de tendência de produto\n",
    "- ### Conformidade de marca e MAP"
   ]
  },
  {
   "cell_type": "markdown",
   "metadata": {},
   "source": [
    "---"
   ]
  },
  {
   "cell_type": "markdown",
   "metadata": {},
   "source": [
    "## **2.2 Pesquisa de mercado**"
   ]
  },
  {
   "cell_type": "markdown",
   "metadata": {},
   "source": [
    "### A pesquisa de ​mercado ​é fundamental, e deve ser conduzida pelas informações mais precisas disponíveis. <br>\n",
    "### Dados extraídos da web de alta qualidade, alto volume e altamente perspicazes de todas as formas e tamanhos, estão alimentando análises de mercado e inteligência de negócios em todo o mundo."
   ]
  },
  {
   "cell_type": "markdown",
   "metadata": {},
   "source": [
    "### Segue alguns exemplos de aplicacao em pesquisa de mercado:\n",
    "\n",
    "- ### Análise de tendência de mercado\n",
    "- ### Preços de mercado\n",
    "- ### Otimização do ponto de entrada\n",
    "- ### Pesquisa e desenvolvimento\n",
    "- ### Monitoramento do concorrente"
   ]
  },
  {
   "cell_type": "markdown",
   "metadata": {},
   "source": [
    "---"
   ]
  },
  {
   "cell_type": "markdown",
   "metadata": {},
   "source": [
    "## **2.3 Dados alternativos para finanças**\n"
   ]
  },
  {
   "cell_type": "markdown",
   "metadata": {},
   "source": [
    "### Desvendar alfa e radicalmente ​criar valor com dados da web​ adaptados especificamente para investidores. <br> \n",
    "### O processo de tomada de decisão nunca foi tão informado, nem os dados tão perspicazes – e as empresas líderes mundiais estão cada vez mais consumindo dados extraídos da web, devido ao seu incrível valor estratégico."
   ]
  },
  {
   "cell_type": "markdown",
   "metadata": {},
   "source": [
    "- ### Extraindo percepções de arquivos da SEC (Securities and Exchange Commission)\n",
    "- ### Estimando os Fundamentos da Empresa\n",
    "- ### Integrações de Opinião Pública\n",
    "- ### Monitoramento de Notícias"
   ]
  },
  {
   "cell_type": "markdown",
   "metadata": {},
   "source": [
    "---"
   ]
  },
  {
   "cell_type": "markdown",
   "metadata": {},
   "source": [
    "## **2.4 Geração de leads**"
   ]
  },
  {
   "cell_type": "markdown",
   "metadata": {},
   "source": [
    "### Geração de leads ​é uma atividade de marketing/vendas crucial para todos os negócios. <br>\n",
    "### Em 2020 o​ Hubspot reportou que ​61% dos profissionais de marketing de atração disseram que gerar tráfego e leads era o seu desafio número 1. <br> \n",
    "### Felizmente, a extração de dados da web pode ser usada para obter acesso a listas de leads estruturadas da web."
   ]
  },
  {
   "cell_type": "markdown",
   "metadata": {},
   "source": [
    "---"
   ]
  },
  {
   "cell_type": "markdown",
   "metadata": {},
   "source": [
    "## **2.5 Monitoramento de marca**"
   ]
  },
  {
   "cell_type": "markdown",
   "metadata": {},
   "source": [
    "### No mercado altamente competitivo de hoje, uma das principais prioridades é proteger a sua reputação online. <br>\n",
    "### Quer você venda os seus produtos online e tenha uma política de preços rígida que precisa ser cumprida ou apenas queira saber como as pessoas veem os seus produtos online, o ​​monitoramento de marca com web scraping​ pode lhe dar esse tipo de informação."
   ]
  },
  {
   "cell_type": "markdown",
   "metadata": {},
   "source": [
    "---"
   ]
  },
  {
   "cell_type": "markdown",
   "metadata": {},
   "source": [
    "# **3. Processo de raspagem de dados** ⚡"
   ]
  },
  {
   "cell_type": "markdown",
   "metadata": {},
   "source": [
    "<img src=\"images/scrape.jpg\" alt=\"Drawing\" style=\"width: 400px;\"/>"
   ]
  },
  {
   "cell_type": "markdown",
   "metadata": {},
   "source": [
    "## Em resumo, esses são os passos para realizar o processo de web scraping"
   ]
  },
  {
   "cell_type": "markdown",
   "metadata": {},
   "source": [
    "- ### Identifique o site de destino\n",
    "- ### Colete URLs das páginas de onde você deseja extrair dados\n",
    "- ### Faça uma solicitação a esses URLs para obter o HTML da página\n",
    "- ### Use localizadores para encontrar os dados no HTML\n",
    "- ### Salve os dados em um arquivo JSON ou CSV ou algum outro formato estruturado"
   ]
  },
  {
   "cell_type": "markdown",
   "metadata": {},
   "source": [
    "# **4. Desafios** ⚡"
   ]
  },
  {
   "cell_type": "markdown",
   "metadata": {},
   "source": [
    "<img src=\"images/ilha-dos-desafios.jpg\" alt=\"Drawing\" style=\"width: 200px;\"/>"
   ]
  },
  {
   "cell_type": "markdown",
   "metadata": {},
   "source": [
    "## Realizar a tarefa de web scraping muita das vezes pode ser uma tarefa simples, no entanto, há varios desafios para manter o projeto ativo, como:"
   ]
  },
  {
   "cell_type": "markdown",
   "metadata": {},
   "source": [
    "- ### Manter o raspador se o layout do site mudar\n",
    "- ### Gerenciar proxies\n",
    "- ### Executar javascript \n",
    "- ### Contornar antibots"
   ]
  },
  {
   "cell_type": "markdown",
   "metadata": {},
   "source": [
    "---"
   ]
  },
  {
   "cell_type": "markdown",
   "metadata": {},
   "source": [
    "# **5. Web scraping é considerada uma prática ilegal?** ⚡"
   ]
  },
  {
   "cell_type": "markdown",
   "metadata": {},
   "source": [
    "<img src=\"images/travadao.gif\" alt=\"Drawing\" style=\"width: 200px;\"/>"
   ]
  },
  {
   "cell_type": "markdown",
   "metadata": {},
   "source": [
    "## Web scraping por si só não é considerado ilegal, dependendo da forma como você o utiliza."
   ]
  },
  {
   "cell_type": "markdown",
   "metadata": {},
   "source": [
    "### A pratica pode se tornar problemática quando você joga no território de outra pessoa, em seus próprios termos, sem obter sua permissão prévia. <br> \n",
    "### O mesmo é verdade na vida real também, quando você pensa sobre isso."
   ]
  },
  {
   "cell_type": "markdown",
   "metadata": {},
   "source": [
    "## **De forma resumida**"
   ]
  },
  {
   "cell_type": "markdown",
   "metadata": {},
   "source": [
    "- ### Se for raspar um site faca com moderacao, sem exageros, como mandar 10 a 15 requisicoes por segundo a um website, por exemplo.\n",
    "- ### Não baseie todo o seu trabalho na extração de dados. O site que você raspa pode, eventualmente, bloquear você.\n",
    "- ### Respeite os Termos de Serviço."
   ]
  },
  {
   "cell_type": "markdown",
   "metadata": {},
   "source": [
    "---"
   ]
  },
  {
   "cell_type": "markdown",
   "metadata": {},
   "source": [
    "# **6. Introdução ao HTML** ⚡"
   ]
  },
  {
   "cell_type": "markdown",
   "metadata": {},
   "source": [
    "### Para realizarmos a raspagem de dados precisamos entender um pouco de HTML.\n",
    "### Abaixo segue uma estrutura HTML simples:"
   ]
  },
  {
   "cell_type": "markdown",
   "metadata": {},
   "source": [
    "### HTML é uma linguagem de marcação, não de programação, ela nos ajuda a estruturar as páginas, com elementos que podem representar blocos que dividem as páginas em partes (div), elementos de texto como título (h1), listas (ul), tabelas (table) e por aí vai, sempre seguindo esta lógica de cada tag conter um conteúdo diferente, lembrando que tudo que é visível fica dentro da tag body."
   ]
  },
  {
   "cell_type": "markdown",
   "metadata": {},
   "source": [
    "<img src=\"images/estrutura.png\" alt=\"Drawing\" style=\"width: 400px;\"/>"
   ]
  },
  {
   "cell_type": "markdown",
   "metadata": {},
   "source": [
    "## Toda página HTML tem pelo menos 3 tags que vão definir o esqueleto principal:\n",
    "- ### < html >: ela define que este é um documento HTML;\n",
    "-  ### < head >: dentro destas tags serão colocadas configurações da página como encode, adicionados outros arquivos externos como scripts, definido o título da página ( o que aparece na aba do browser ), entre outras que são como parâmetros para a página web;\n",
    " - ### < body >: esta tag contém todos os elementos visíveis da página, textos, listas, parágrafos e etc;"
   ]
  },
  {
   "cell_type": "markdown",
   "metadata": {},
   "source": [
    "### Tudo que está entre sinais de < > são tags, é por meio delas que estruturamos a página, a grande maioria precisa ser aberta e fechada, como no exemplo a seguir:\n",
    "### < p >Texto do parágrafo< /p >"
   ]
  },
  {
   "cell_type": "markdown",
   "metadata": {},
   "source": [
    "### As tags tambem aceitam parâmetros, os mais utilizados são classes e ids:\n",
    "- ### classe: o intuito de adicionar uma classe é que vários elementos possam aproveitar suas características\n",
    "- ### id: quando colocamos um id num elemento, ele tende a ser único na página, nas boas práticas dois elementos diferentes não podem ter o mesmo id"
   ]
  },
  {
   "cell_type": "markdown",
   "metadata": {},
   "source": [
    "### Voltando para o webscraping, as classes e ids nos auxiliarão a acessar os elementos que queremos resgatar os dados.\n",
    "### Por exemplo: identificamos que um dado importante está em um parágrafo, se procurarmos por parágrafos podemos achar inúmeros elementos com essa tag, agora se o elemento alvo conter um id ele será apenas um, e isso facilitará muito nossa vida."
   ]
  },
  {
   "cell_type": "markdown",
   "metadata": {},
   "source": [
    "# **7. Mão na massa!** ⚡"
   ]
  },
  {
   "cell_type": "markdown",
   "metadata": {},
   "source": [
    "<img src=\"images/mao-na-massa.jpg\" alt=\"Drawing\" style=\"width: 400px;\"/>"
   ]
  },
  {
   "cell_type": "markdown",
   "metadata": {},
   "source": [
    "# **Referências:** \n",
    "- ## [O que é Web Scraping? Para iniciantes](https://www.gocache.com.br/seguranca/o-que-e-web-scraping-para-iniciantes/)\n",
    "- ## [Web Scraping e Web Crawling são Legais ou Ilegais?](https://blog.dsacademy.com.br/web-scraping-e-web-crawling-sao-legais-ou-ilegais/)"
   ]
  },
  {
   "cell_type": "markdown",
   "metadata": {},
   "source": [
    "---"
   ]
  }
 ],
 "metadata": {
  "interpreter": {
   "hash": "744e24d0957d42ad7b50819cc35ccf6cbf1ffdc9fa43baec5a1b56cdf1a86f6e"
  },
  "kernelspec": {
   "display_name": "Python 3.9.7 64-bit",
   "name": "python3"
  },
  "language_info": {
   "codemirror_mode": {
    "name": "ipython",
    "version": 3
   },
   "file_extension": ".py",
   "mimetype": "text/x-python",
   "name": "python",
   "nbconvert_exporter": "python",
   "pygments_lexer": "ipython3",
   "version": "3.9.7"
  },
  "orig_nbformat": 4
 },
 "nbformat": 4,
 "nbformat_minor": 2
}
