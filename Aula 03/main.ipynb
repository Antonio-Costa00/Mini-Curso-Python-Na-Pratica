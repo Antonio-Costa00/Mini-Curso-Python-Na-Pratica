{
 "cells": [
  {
   "cell_type": "markdown",
   "metadata": {},
   "source": [
    "# 🚀 **Aula 03 - Automacao de processos, criacao de interface e projetos!**"
   ]
  },
  {
   "cell_type": "markdown",
   "metadata": {},
   "source": [
    "## Nesta aula estaremos construindo uma interface gráfica para o usuario final e realizando automacao de processos, utilizando as bibliotecas **pyautogui** para automacao e **PySimpleGUI** para criacao das interfaces."
   ]
  },
  {
   "cell_type": "markdown",
   "metadata": {},
   "source": [
    "---"
   ]
  },
  {
   "cell_type": "markdown",
   "metadata": {},
   "source": [
    "# **1. Criacao de interfaces**  ⚡"
   ]
  },
  {
   "cell_type": "markdown",
   "metadata": {},
   "source": [
    "<img src=\"images/interface.jpg\" alt=\"Drawing\" style=\"width: 400px;\"/>"
   ]
  },
  {
   "cell_type": "markdown",
   "metadata": {},
   "source": [
    "## Geralmente quando falamos nna criacao de interfaces para o usuario final é um procedimento demorado, no entanto, com Python é uma tarefa simples, utilizando a biblioteca **PySimpleGUI**."
   ]
  },
  {
   "cell_type": "markdown",
   "metadata": {},
   "source": [
    "## **1.1 O que é GUI?**"
   ]
  },
  {
   "cell_type": "markdown",
   "metadata": {},
   "source": [
    "### GUI - Graphical user interface (Interface gráfica do utilizador) <br>\n",
    "### Em informática, interface gráfica do utilizador ou usuário é um tipo de interface do utilizador que permite a interação com dispositivos digitais por meio de elementos gráficos como ícones e outros indicadores visuais, em contraste a interface de linha."
   ]
  },
  {
   "cell_type": "markdown",
   "metadata": {},
   "source": [
    "## **1.2 Instalando a biblioteca PySimpleGUI**"
   ]
  },
  {
   "cell_type": "markdown",
   "metadata": {},
   "source": [
    "### Para instalarmos a bibliotca iremos utilizar o seguinte comando"
   ]
  },
  {
   "cell_type": "code",
   "execution_count": null,
   "metadata": {},
   "outputs": [],
   "source": [
    "!pip install PySimpleGUI"
   ]
  },
  {
   "cell_type": "markdown",
   "metadata": {},
   "source": [
    "## **1.3 Criando nossa primeira tela**"
   ]
  },
  {
   "cell_type": "markdown",
   "metadata": {},
   "source": [
    "### Com a biblioteca PySimpleGUI é muito facil criar uma interface gráfica. <br>\n",
    "### Segue abaixo a criacao de nossa primeira interface com apenas uma **linha de código**"
   ]
  },
  {
   "cell_type": "code",
   "execution_count": 2,
   "metadata": {},
   "outputs": [],
   "source": [
    "import PySimpleGUI as sg"
   ]
  },
  {
   "cell_type": "code",
   "execution_count": 8,
   "metadata": {},
   "outputs": [
    {
     "data": {
      "text/plain": [
       "'OK'"
      ]
     },
     "execution_count": 8,
     "metadata": {},
     "output_type": "execute_result"
    }
   ],
   "source": [
    "sg.popup('Minha primeira tela!', 'Minha primeira tela com apenas uma linha de código!')"
   ]
  },
  {
   "cell_type": "markdown",
   "metadata": {},
   "source": [
    "### Que tal uma GUI customizada para usuario final com apenas uma linha de código?"
   ]
  },
  {
   "cell_type": "code",
   "execution_count": 15,
   "metadata": {},
   "outputs": [],
   "source": [
    "event, values = sg.Window('Colete o nome do arquivo', [[sg.Text('Nome do arquivo')], [sg.Input(), sg.FileBrowse(button_text = 'Buscar')], [sg.OK(), sg.Cancel(button_text = 'Cancelar')] ]).read(close=True)"
   ]
  },
  {
   "cell_type": "markdown",
   "metadata": {},
   "source": [
    "## The Beauty of Simplicity \n",
    "##  One day I will find the right words, and they will be simple. ― Jack Kerouac"
   ]
  },
  {
   "cell_type": "markdown",
   "metadata": {},
   "source": [
    "### É bom que você possa dividir as coisas em uma linha, como no exemplo acima, mas não é legível. <br>\n",
    "### Vamos adicionar alguns espaços em branco para que você possa ver a beleza do código **PySimpleGUI**."
   ]
  },
  {
   "cell_type": "code",
   "execution_count": 3,
   "metadata": {},
   "outputs": [],
   "source": [
    "sg.theme('Python')  # Vamos definir o tema do programa\n",
    "\n",
    "layout = [  [sg.Text('Nome do Arquivo')],\n",
    "            [sg.Input(), sg.FileBrowse(button_text = 'Buscar')], \n",
    "            [sg.OK(), sg.Cancel(button_text = 'Cancelar')]] \n",
    "\n",
    "window = sg.Window('Colete o nome do arquivo', layout)\n",
    "\n",
    "event, values = window.read()\n",
    "window.close()"
   ]
  },
  {
   "cell_type": "markdown",
   "metadata": {},
   "source": [
    "## **1.4 Lista de temas**"
   ]
  },
  {
   "cell_type": "markdown",
   "metadata": {},
   "source": [
    "### A biblioteca contém varios temas pré definidos. <br>\n",
    "### Caso o programador deseje ver o nome de todos basta chamar a seguinte funcao"
   ]
  },
  {
   "cell_type": "code",
   "execution_count": null,
   "metadata": {},
   "outputs": [],
   "source": [
    "theme_name_list = sg.theme_list()\n",
    "print(theme_name_list)"
   ]
  },
  {
   "cell_type": "markdown",
   "metadata": {},
   "source": [
    "### E para visualizar todos"
   ]
  },
  {
   "cell_type": "code",
   "execution_count": null,
   "metadata": {},
   "outputs": [],
   "source": [
    "sg.theme_previewer()"
   ]
  },
  {
   "cell_type": "markdown",
   "metadata": {},
   "source": [
    "### Ou melhor, podemos criar uma GUI interativa para o suario ter um preview de cada tema."
   ]
  },
  {
   "cell_type": "code",
   "execution_count": 7,
   "metadata": {},
   "outputs": [],
   "source": [
    "sg.theme('DarkTeal9') #Tema padrão\n",
    "  \n",
    "layout = [[sg.Text('Lista de temas pré prontos')],\n",
    "          [sg.Text('Escolha um tema para ter uma pré visualicao')],\n",
    "          [sg.Listbox(values = sg.theme_list(),\n",
    "                      size =(20, 12),\n",
    "                      key ='-LIST-',\n",
    "                      enable_events = True)],\n",
    "          [sg.Button('Sair')]]\n",
    "  \n",
    "window = sg.Window('Lista de temas', layout)\n",
    "  \n",
    "# Evento para permanecer na tela\n",
    "while True:  \n",
    "    event, values = window.read()\n",
    "    # Se o evento for sair ou cancelar quebrar o loop , o que fara a janela fechar. \n",
    "    if event in (None, 'Sair'):\n",
    "        break\n",
    "          \n",
    "    sg.theme(values['-LIST-'][0])\n",
    "    sg.popup_get_text('Este é o tema {}'.format(values['-LIST-'][0]))\n",
    "      \n",
    "# Close\n",
    "window.close()"
   ]
  },
  {
   "cell_type": "markdown",
   "metadata": {},
   "source": [
    "---"
   ]
  },
  {
   "cell_type": "markdown",
   "metadata": {},
   "source": [
    "# **Referências:** \n",
    "- ## [O que é Web Scraping? Para iniciantes](https://www.gocache.com.br/seguranca/o-que-e-web-scraping-para-iniciantes/)\n",
    "- ## [Web Scraping e Web Crawling são Legais ou Ilegais?](https://blog.dsacademy.com.br/web-scraping-e-web-crawling-sao-legais-ou-ilegais/)"
   ]
  },
  {
   "cell_type": "markdown",
   "metadata": {},
   "source": [
    "---"
   ]
  }
 ],
 "metadata": {
  "interpreter": {
   "hash": "744e24d0957d42ad7b50819cc35ccf6cbf1ffdc9fa43baec5a1b56cdf1a86f6e"
  },
  "kernelspec": {
   "display_name": "Python 3.9.7 64-bit",
   "name": "python3"
  },
  "language_info": {
   "codemirror_mode": {
    "name": "ipython",
    "version": 3
   },
   "file_extension": ".py",
   "mimetype": "text/x-python",
   "name": "python",
   "nbconvert_exporter": "python",
   "pygments_lexer": "ipython3",
   "version": "3.9.7"
  },
  "orig_nbformat": 4
 },
 "nbformat": 4,
 "nbformat_minor": 2
}
