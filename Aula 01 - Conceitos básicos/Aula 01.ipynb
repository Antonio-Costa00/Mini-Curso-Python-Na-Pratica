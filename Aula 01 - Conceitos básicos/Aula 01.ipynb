{
 "cells": [
  {
   "cell_type": "markdown",
   "metadata": {},
   "source": [
    "# 🚀 Aula 01 - Conceitos básicos"
   ]
  },
  {
   "cell_type": "markdown",
   "metadata": {},
   "source": [
    "> Nesta aula iremos estar **aprendendo o básico de Python, como o que é Python, diferentes tipos de dados, estruturas de repeticao e condicionais**"
   ]
  },
  {
   "cell_type": "markdown",
   "metadata": {},
   "source": [
    "***"
   ]
  },
  {
   "cell_type": "code",
   "execution_count": null,
   "metadata": {},
   "outputs": [],
   "source": [
    "from pprint import pprint"
   ]
  },
  {
   "cell_type": "markdown",
   "metadata": {},
   "source": [
    "# 1. O que é Python?"
   ]
  },
  {
   "cell_type": "markdown",
   "metadata": {},
   "source": [
    "## **Em resumo** <br><br>\n",
    "\n",
    "### **Python** é uma linguagem de programação orientada a objetos. Tudo é em Python tratado como um objeto, incluindo variáveis, funções, listas, tuplas, dicionários, conjuntos, etc. Cada objeto pertence à sua classe. <br><br>"
   ]
  },
  {
   "cell_type": "markdown",
   "metadata": {},
   "source": [
    "![meme](images/nazaré.gif \"Meme\")"
   ]
  },
  {
   "cell_type": "markdown",
   "metadata": {},
   "source": [
    "\n",
    "### 📢 Exemplo:"
   ]
  },
  {
   "cell_type": "code",
   "execution_count": null,
   "metadata": {},
   "outputs": [],
   "source": [
    "meu_curso = \"pYtHOn na PráTiCA\"\n",
    "print(meu_curso)"
   ]
  },
  {
   "cell_type": "markdown",
   "metadata": {},
   "source": [
    "### *Meu curso* é uma <font color='red'>**váriavel**</font>, com o valor *pYtHOn na PráTiCA*. <br><br>\n",
    "### A váriavel <font color='red'>**meu curso**</font> tambem é um <font color='red'>**objeto**</font>, e com isso, podemos utilizar <font color='red'>**métodos**</font> aplicaveis a ela. <br><br>\n",
    "### Vejamos abaixo a utilizacao do método capitalize() para formatar a string: "
   ]
  },
  {
   "cell_type": "code",
   "execution_count": null,
   "metadata": {},
   "outputs": [],
   "source": [
    "meu_curso_formatado = meu_curso.capitalize()\n",
    "print(meu_curso_formatado)"
   ]
  },
  {
   "cell_type": "markdown",
   "metadata": {},
   "source": [
    "### Em Python, todo método é chamado se escrevendo o objeto em questão (que pode ser uma lista, uma string, uma funcao, etc...) mais um ponto \".\" com o nome do método em questão, seguidos de um par de parenteses (), como demonstrado acima."
   ]
  },
  {
   "cell_type": "markdown",
   "metadata": {},
   "source": [
    "# 2. Tipos de dados"
   ]
  },
  {
   "cell_type": "markdown",
   "metadata": {},
   "source": [
    "- ### Números:\tint, long, float, complex\n",
    "- ### Strings:\tstr e unicode\n",
    "- ### Listas e tuplas:\tlist, tuple\n",
    "- ### Dicionários:\tdict\n",
    "- ### Arquivos:\tfile\n",
    "- ### Booleanos:\tbool (True, False)\n",
    "- ### Conjuntos:\tset, frozenset\n",
    "- ### None:\t"
   ]
  },
  {
   "cell_type": "markdown",
   "metadata": {},
   "source": [
    "## **2.1 Listas** <br>\n",
    "\n",
    "### Listas são coleções de valores indexados, em que cada valor é identificado por um índice. <br> \n",
    "### O primeiro item na lista está no índice 0, o segundo no índice 1 e assim por diante."
   ]
  },
  {
   "cell_type": "code",
   "execution_count": null,
   "metadata": {},
   "outputs": [],
   "source": [
    "lista_de_alunos = ['Lucas', 'Juliana', 'Maria Helena', 'Caio', 'Luana']\n",
    "print(type(lista_de_alunos)) \n",
    "print(len(lista_de_alunos)) \n",
    "print(lista_de_alunos[4])"
   ]
  },
  {
   "cell_type": "markdown",
   "metadata": {},
   "source": [
    "### Outra característica das listas em Python é que listas são **mutáveis**, podendo ser alteradas depois de terem sido criadas. Em outras palavras, podemos adicionar, remover e até mesmo alterar os itens de uma lista."
   ]
  },
  {
   "cell_type": "code",
   "execution_count": null,
   "metadata": {},
   "outputs": [],
   "source": [
    "print(lista_de_alunos)\n",
    "lista_de_alunos[1] = \"Bruna\"\n",
    "print(lista_de_alunos)"
   ]
  },
  {
   "cell_type": "markdown",
   "metadata": {},
   "source": [
    "## **Adicionando e removendo elementos em uma lista** <br>\n",
    "### Para adicionar elementos em uma lista podemos utilizar o método <font color='red'>**append()**</font>"
   ]
  },
  {
   "cell_type": "code",
   "execution_count": null,
   "metadata": {},
   "outputs": [],
   "source": [
    "print(lista_de_alunos)\n",
    "lista_de_alunos.append(\"João\")\n",
    "print(lista_de_alunos)"
   ]
  },
  {
   "cell_type": "markdown",
   "metadata": {},
   "source": [
    "### Se quisermos adicionar o aluno Fernando em um lugar específico, como na 3a posicao, podemos utilizar o método <font color='red'>**insert(*i, Valor*)**</font>, onde *i* é o indice a ser incluido e *Valor* é o valor a ser incluso. "
   ]
  },
  {
   "cell_type": "code",
   "execution_count": null,
   "metadata": {},
   "outputs": [],
   "source": [
    "print(lista_de_alunos)\n",
    "lista_de_alunos.insert(2, \"Fernando\")\n",
    "print(lista_de_alunos)"
   ]
  },
  {
   "cell_type": "markdown",
   "metadata": {
    "hidden": true
   },
   "source": [
    "### O mesmo vale para remocao de dados. Suponhamos que queiramos remover o aluno Caio da lista. Podemos fazer isso utilizando o método <font color='red'>**remove(*Valor*)**</font>, onde *Valor* é o valor a ser removido. "
   ]
  },
  {
   "cell_type": "code",
   "execution_count": null,
   "metadata": {},
   "outputs": [],
   "source": [
    "print(lista_de_alunos)\n",
    "lista_de_alunos.remove(\"Caio\")\n",
    "print(lista_de_alunos)\n"
   ]
  },
  {
   "cell_type": "markdown",
   "metadata": {},
   "source": [
    "### Para remover um elemento pelo seu indice podemos utilizar o método <font color='red'>**pop(*i*)**</font>, onde *i* é o indice a ser removido. "
   ]
  },
  {
   "cell_type": "code",
   "execution_count": null,
   "metadata": {},
   "outputs": [],
   "source": [
    "print(lista_de_alunos)\n",
    "lista_de_alunos.pop(3)\n",
    "print(lista_de_alunos)"
   ]
  },
  {
   "cell_type": "markdown",
   "metadata": {},
   "source": [
    "### Se tentarmos remover um aluno que nao esta na lista iremos lhe deparar com um erro"
   ]
  },
  {
   "cell_type": "code",
   "execution_count": null,
   "metadata": {},
   "outputs": [],
   "source": [
    "print(lista_de_alunos)\n",
    "lista_de_alunos.remove(\"Ana\")"
   ]
  },
  {
   "cell_type": "markdown",
   "metadata": {},
   "source": [
    "### Listas podem conter todos tipos de valores simultaneamente"
   ]
  },
  {
   "cell_type": "code",
   "execution_count": null,
   "metadata": {},
   "outputs": [],
   "source": [
    "aluno = ['Murilo', 19, 1.79] # Nome, idade e altura\n",
    "\n",
    "print(type(aluno)) \n",
    "print(aluno)"
   ]
  },
  {
   "cell_type": "markdown",
   "metadata": {},
   "source": [
    "## 2.2 Tuplas"
   ]
  },
  {
   "cell_type": "markdown",
   "metadata": {},
   "source": [
    "### Tuplas são estruturas de dados semelhantes as listas, porém, as tuplas possuem a característica de serem <font color='red'>**imutáveis**</font>, ou seja, após uma tupla ser criada, ela <font color='red'>**não podera ser alterada** </font>"
   ]
  },
  {
   "cell_type": "code",
   "execution_count": null,
   "metadata": {},
   "outputs": [],
   "source": [
    "cardapio = ('Bife a milanesa', 'Lasanha', 'Cachorro quente', 'Pao de queijo')\n",
    "\n",
    "print(type(cardapio))\n",
    "print(cardapio)"
   ]
  },
  {
   "cell_type": "markdown",
   "metadata": {},
   "source": [
    "### Assim como é feito nas listas, podemos acessar um determinado valor na tupla pelo seu índice"
   ]
  },
  {
   "cell_type": "code",
   "execution_count": null,
   "metadata": {},
   "outputs": [],
   "source": [
    "print(cardapio[1])"
   ]
  },
  {
   "cell_type": "markdown",
   "metadata": {},
   "source": [
    "### Uma observação a ser feita no uso de uma tupla é que se ela tiver um único item, é necessário colocar uma vírgula depois dela, pois caso contrário, o objeto que iremos obter é uma string, porque o valor do item é do tipo string."
   ]
  },
  {
   "cell_type": "code",
   "execution_count": null,
   "metadata": {},
   "outputs": [],
   "source": [
    "objeto_string = ('tesoura')\n",
    "objeto_tupla = ('tesoura',)\n",
    "\n",
    "print(type(objeto_string))\n",
    "print(type(objeto_tupla))"
   ]
  },
  {
   "cell_type": "markdown",
   "metadata": {},
   "source": [
    "### O fato da tupla ser imutável faz com que os seus elementos não possam ser alterados depois dela já criada. <br> \n",
    "### Vamos usar a tupla vogais para mostrar um exemplo desse tipo"
   ]
  },
  {
   "cell_type": "code",
   "execution_count": null,
   "metadata": {},
   "outputs": [],
   "source": [
    "vogais = ('a', 'e', 'i', 'o', 'u')\n",
    "vogais[1] = 'E'"
   ]
  },
  {
   "cell_type": "markdown",
   "metadata": {},
   "source": [
    "### Para fixar esse conceito, lembre-se que: <br> \n",
    "- ### Tuplas e as strings são <font color='red'> **sequências imutáveis** </font>.\n",
    "- ### listas são <font color='red'> **sequências mutáveis** </font>. \n",
    "### Isso está de acordo com a [documentação oficial do Python.](https://docs.python.org/3.8/reference/datamodel.html#the-standard-type-hierarchy)"
   ]
  },
  {
   "cell_type": "markdown",
   "metadata": {
    "heading_collapsed": true
   },
   "source": [
    "### 🚨 Exemplo"
   ]
  },
  {
   "cell_type": "markdown",
   "metadata": {},
   "source": [
    "## 2.3 Dicionários"
   ]
  },
  {
   "cell_type": "markdown",
   "metadata": {},
   "source": [
    " - ### Os dicionários representam coleções de dados que contém na sua estrutura um <font color='red'> **conjunto de pares chave/valor** </font>, nos quais cada chave <font color='red'> **individual** </font> tem um valor associado.<br>\n",
    "- ### Esse objeto representa a ideia de um mapa, que entendemos como uma coleção associativa desordenada. \n",
    "- ### A associação nos dicionários é feita por meio de uma <font color='red'> **chave** </font> que faz <font color='red'> **referência** </font> a um valor"
   ]
  },
  {
   "cell_type": "markdown",
   "metadata": {},
   "source": [
    "### Exemplo:"
   ]
  },
  {
   "cell_type": "code",
   "execution_count": null,
   "metadata": {},
   "outputs": [],
   "source": [
    "dados_cliente = {\n",
    "    'Nome': 'Marcos',\n",
    "    'Endereco': 'Vila Sao Pedro',\n",
    "    'Telefone': '98250-3645'\n",
    "}\n",
    "\n",
    "print(dados_cliente)\n",
    "print(dados_cliente['Nome'])"
   ]
  },
  {
   "cell_type": "markdown",
   "metadata": {},
   "source": [
    "### A estrutura de um dicionário é delimitada por chaves, entre as quais ficam o conteúdo desse objeto. \n",
    "### Veja que é criada a variável *dados_cliente*, à qual é atribuída uma coleção de dados que, nesse caso, trata-se de um dicionário."
   ]
  },
  {
   "cell_type": "markdown",
   "metadata": {},
   "source": [
    "## \"*Nas listas e tuplas acessamos os dados por meio dos <font color= 'red'> índices </font>. Já nos dicionários, o acesso aos dados é feito por meio da <font color= 'red'> chave associada a eles</font>.*\""
   ]
  },
  {
   "cell_type": "markdown",
   "metadata": {},
   "source": [
    "### Para adicionar elementos em dicionário basta associar uma nova chave ao objeto e dar um valor a ser associado a ela."
   ]
  },
  {
   "cell_type": "code",
   "execution_count": null,
   "metadata": {},
   "outputs": [],
   "source": [
    "computador = {\n",
    "    'CPU': 'Intel',\n",
    "    'RAM': '8gb',\n",
    "    'SSD': '250bg'\n",
    "}\n",
    "print(computador)\n",
    "computador['Placa de Video'] = 'NVDIA'\n",
    "print(computador)"
   ]
  },
  {
   "cell_type": "markdown",
   "metadata": {},
   "source": [
    "### Para remover um item do dicionário, podemos usar o método <font color=\"red\"> **pop()**</font>"
   ]
  },
  {
   "cell_type": "code",
   "execution_count": null,
   "metadata": {},
   "outputs": [],
   "source": [
    "print(computador)\n",
    "computador.pop('RAM', None)\n",
    "print(computador)"
   ]
  },
  {
   "cell_type": "markdown",
   "metadata": {},
   "source": [
    "### Na célula anterior temos o uso do método <font color=\"red\"> **pop()** </font>, usado para remover o item '*RAM*’ do dicionário *computador*. \n",
    "- ### Temos na chamada do método o parâmetro None, que é passado depois da chave a ser removida. \n",
    "- ### O None serve para que a mensagem de erro KeyError não apareça devido a remoção de uma chave inexistente."
   ]
  },
  {
   "cell_type": "markdown",
   "metadata": {},
   "source": [
    "### Outra alternativa seria usar a palavra-chave del, que remove uma chave e o valor associado a ela no dicionário. Isso se faz por meio da passagem no parâmetro."
   ]
  },
  {
   "cell_type": "code",
   "execution_count": null,
   "metadata": {},
   "outputs": [],
   "source": [
    "carro = {\n",
    "  \"marca\": \"Ford\",\n",
    "  \"modelo\": \"Mustang\",\n",
    "  \"ano\": 1964,\n",
    "  \"cor\": \"Azul\"\n",
    "}\n",
    "print(carro)\n",
    "del carro[\"cor\"]\n",
    "print(carro)"
   ]
  },
  {
   "cell_type": "markdown",
   "metadata": {},
   "source": [
    "# 2. Merge Excel Files (Real Life Example)"
   ]
  },
  {
   "cell_type": "markdown",
   "metadata": {},
   "source": [
    "### 📢 Purpose: <br><br>Merge multiple Excel files, perform calculations & insert (Excel) charts [keep excel formatting & formulas]"
   ]
  },
  {
   "cell_type": "markdown",
   "metadata": {},
   "source": [
    "### 🚨 Some Remarks"
   ]
  },
  {
   "cell_type": "markdown",
   "metadata": {},
   "source": [
    " **`xlwings` ..**\n",
    " - .. is just a smart wrapper around `pywin32` on Windows and `appscript` on Mac.\n",
    " - .. works nicely together with Pandas\n",
    " - .. (Excel) is not ideal when dealing with larger datasets.\n",
    " - .. has actually much more to offer. You can, for instance:\n",
    "     - write user-defined-functions (UDF) in Python\n",
    "     - run Python directly in Excel"
   ]
  },
  {
   "cell_type": "markdown",
   "metadata": {},
   "source": [
    "# 3. My take on Excel automation in general & VBA vs. Python ⚡"
   ]
  },
  {
   "cell_type": "markdown",
   "metadata": {},
   "source": [
    "## Should you try to automate all Excel files?"
   ]
  },
  {
   "cell_type": "markdown",
   "metadata": {},
   "source": [
    "---"
   ]
  },
  {
   "cell_type": "markdown",
   "metadata": {},
   "source": [
    "### 🚨 Use the right tool for the right job!"
   ]
  },
  {
   "cell_type": "markdown",
   "metadata": {},
   "source": [
    "#### 👉 MS Excel, PowerQuery, PowerBI, Database, VBA, Python, ..."
   ]
  },
  {
   "cell_type": "markdown",
   "metadata": {},
   "source": [
    "## VBA or Python? Which one should I use?"
   ]
  },
  {
   "cell_type": "markdown",
   "metadata": {},
   "source": [
    "**Overall:** <br>\n",
    "> Computer programming languages are like **tools in a toolbox**. Different tools are designed to solve different problems.\n",
    "- Python is a General-Purpose Language\n",
    "- Visual Basic for Applications (VBA) is a simple, but powerful programming language to extend Office applications\n",
    "\n",
    "**VBA:**<br>\n",
    "  👍 Syntax is very intuitive. Example: Range(\"A1:C7\").ClearContents <br>\n",
    "  👍 No additional installation is required (huge advantage!). Built in `Visual Basic Editor (VBE)` <br>\n",
    "  👎 It is restricted to Office Applications <br>\n",
    "\n",
    "**Python:**<br>\n",
    "  👍 Has very powerful packages (for data analysis, machine-/deeplearning, web development, ..) <br>\n",
    "  👍 Python is one of the fastest-growing programming languages <br>\n",
    "  👎 Requires additional setup: Python(distribution), Editor (other than Word or Notepad 😅)<br>\n",
    " \n",
    "___\n",
    "Python might be more powerful than VBA but like I said earlier, what matters is what you intend to achieve. There is no need killing a mosquito with an atomic bomb when a simple spray can do the job.\n",
    "\n",
    "At times I find VBA-Excel more appropriate for a certain task and much more efficient than Python. But I also like the powerful Python packages."
   ]
  },
  {
   "cell_type": "markdown",
   "metadata": {},
   "source": [
    "# 4. Connect with me 💬"
   ]
  },
  {
   "cell_type": "markdown",
   "metadata": {},
   "source": [
    "> 📺 **YouTube:** https://youtube.com/c/codingisfun <br>\n",
    "> 🌎 **Website:** https://pythonandvba.com <br>\n",
    "> 📝 **GitHub:** https://github.com/Sven-Bo <br>\n",
    "> ⭐ **Discord:** https://pythonandvba.com/discord <br>\n",
    "> 💬 **EMail:** contact@pythonandvba.com <br>"
   ]
  }
 ],
 "metadata": {
  "interpreter": {
   "hash": "744e24d0957d42ad7b50819cc35ccf6cbf1ffdc9fa43baec5a1b56cdf1a86f6e"
  },
  "kernelspec": {
   "display_name": "Python 3.9.7 64-bit",
   "name": "python3"
  },
  "language_info": {
   "codemirror_mode": {
    "name": "ipython",
    "version": 3
   },
   "file_extension": ".py",
   "mimetype": "text/x-python",
   "name": "python",
   "nbconvert_exporter": "python",
   "pygments_lexer": "ipython3",
   "version": "3.9.7"
  }
 },
 "nbformat": 4,
 "nbformat_minor": 4
}
