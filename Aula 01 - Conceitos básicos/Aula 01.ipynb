{
 "cells": [
  {
   "cell_type": "markdown",
   "metadata": {},
   "source": [
    "# 🚀 Aula 01 - Conceitos básicos"
   ]
  },
  {
   "cell_type": "markdown",
   "metadata": {},
   "source": [
    "> Nesta aula iremos estar **aprendendo o básico de Python, como o que é Python, diferentes tipos de dados, estruturas de repeticao e condicionais**"
   ]
  },
  {
   "cell_type": "markdown",
   "metadata": {},
   "source": [
    "***"
   ]
  },
  {
   "cell_type": "markdown",
   "metadata": {},
   "source": [
    "# 1. O que é Python?"
   ]
  },
  {
   "cell_type": "markdown",
   "metadata": {},
   "source": [
    "## **Em resumo** <br><br>\n",
    "\n",
    "### **Python** é uma linguagem de programação orientada a objetos. Tudo é em Python tratado como um objeto, incluindo variáveis, funções, listas, tuplas, dicionários, conjuntos, etc. Cada objeto pertence à sua classe. <br><br>"
   ]
  },
  {
   "cell_type": "markdown",
   "metadata": {},
   "source": [
    "![meme](images/nazaré.gif \"Meme\")"
   ]
  },
  {
   "cell_type": "markdown",
   "metadata": {},
   "source": [
    "### Exemplo:"
   ]
  },
  {
   "cell_type": "code",
   "execution_count": null,
   "metadata": {},
   "outputs": [],
   "source": [
    "meu_curso = \"pYtHOn na PráTiCA\"\n",
    "print(meu_curso)"
   ]
  },
  {
   "cell_type": "markdown",
   "metadata": {},
   "source": [
    "### *Meu curso* é uma <font color='red'>**váriavel**</font>, com o valor *pYtHOn na PráTiCA*. <br><br>\n",
    "### A váriavel <font color='red'>**meu curso**</font> tambem é um <font color='red'>**objeto da classe string**</font> , e com isso, podemos utilizar <font color='red'>**métodos**</font> aplicaveis a ela. <br><br>\n",
    "### Vejamos abaixo a utilizacao do método capitalize() para formatar a string: "
   ]
  },
  {
   "cell_type": "code",
   "execution_count": null,
   "metadata": {},
   "outputs": [],
   "source": [
    "meu_curso_formatado = meu_curso.capitalize()\n",
    "print(meu_curso_formatado)"
   ]
  },
  {
   "cell_type": "markdown",
   "metadata": {},
   "source": [
    "### Em Python, todo método é chamado se escrevendo o objeto em questão (que pode ser uma lista, uma string, uma funcao, etc...) mais um ponto \".\" com o nome do método em questão, seguidos de um par de parenteses (), como demonstrado acima."
   ]
  },
  {
   "cell_type": "markdown",
   "metadata": {},
   "source": [
    "---"
   ]
  },
  {
   "cell_type": "markdown",
   "metadata": {},
   "source": [
    "# 2. Tipos de dados"
   ]
  },
  {
   "cell_type": "markdown",
   "metadata": {},
   "source": [
    "- ### Números:\tint, long, float, complex\n",
    "- ### Strings:\tstr e unicode\n",
    "- ### Listas e tuplas:\tlist, tuple\n",
    "- ### Dicionários:\tdict\n",
    "- ### Arquivos:\tfile\n",
    "- ### Booleanos:\tbool (True, False)\n",
    "- ### Conjuntos:\tset, frozenset\n",
    "- ### None:\t"
   ]
  },
  {
   "cell_type": "markdown",
   "metadata": {},
   "source": [
    "## **2.1 Listas** <br>\n",
    "\n",
    "### Listas são coleções de valores indexados, em que cada valor é identificado por um <font color='red'>**índice**</font>. <br> \n",
    "### O primeiro item na lista está no índice 0, o segundo no índice 1 e assim por diante."
   ]
  },
  {
   "cell_type": "code",
   "execution_count": null,
   "metadata": {},
   "outputs": [],
   "source": [
    "lista_de_alunos = ['Lucas', 'Juliana', 'Maria Helena', 'Caio', 'Luana']\n",
    "print(type(lista_de_alunos)) \n",
    "print(len(lista_de_alunos)) \n",
    "print(lista_de_alunos[4])"
   ]
  },
  {
   "cell_type": "markdown",
   "metadata": {},
   "source": [
    "### Outra característica das listas em Python é que listas são **mutáveis**, podendo ser alteradas depois de terem sido criadas. Em outras palavras, podemos adicionar, remover e até mesmo alterar os itens de uma lista."
   ]
  },
  {
   "cell_type": "code",
   "execution_count": null,
   "metadata": {},
   "outputs": [],
   "source": [
    "print(lista_de_alunos)\n",
    "lista_de_alunos[1] = \"Bruna\"\n",
    "print(lista_de_alunos)"
   ]
  },
  {
   "cell_type": "markdown",
   "metadata": {},
   "source": [
    "## **Adicionando e removendo elementos em uma lista** <br>\n",
    "### Para adicionar elementos em uma lista podemos utilizar o método <font color='red'>**append()**</font>"
   ]
  },
  {
   "cell_type": "code",
   "execution_count": null,
   "metadata": {},
   "outputs": [],
   "source": [
    "print(lista_de_alunos)\n",
    "lista_de_alunos.append(\"João\")\n",
    "print(lista_de_alunos)"
   ]
  },
  {
   "cell_type": "markdown",
   "metadata": {},
   "source": [
    "### Se quisermos adicionar o aluno Fernando em um lugar específico, como na 3a posicao, podemos utilizar o método <font color='red'>**insert(*i, Valor*)**</font>, onde *i* é o indice a ser incluido e *Valor* é o valor a ser incluso. "
   ]
  },
  {
   "cell_type": "code",
   "execution_count": null,
   "metadata": {},
   "outputs": [],
   "source": [
    "print(lista_de_alunos)\n",
    "lista_de_alunos.insert(2, \"Fernando\")\n",
    "print(lista_de_alunos)"
   ]
  },
  {
   "cell_type": "markdown",
   "metadata": {
    "hidden": true
   },
   "source": [
    "### O mesmo vale para remocao de dados. Suponhamos que queiramos remover o aluno Caio da lista. Podemos fazer isso utilizando o método <font color='red'>**remove(*Valor*)**</font>, onde *Valor* é o valor a ser removido. "
   ]
  },
  {
   "cell_type": "code",
   "execution_count": null,
   "metadata": {},
   "outputs": [],
   "source": [
    "print(lista_de_alunos)\n",
    "lista_de_alunos.remove(\"Caio\")\n",
    "print(lista_de_alunos)"
   ]
  },
  {
   "cell_type": "markdown",
   "metadata": {},
   "source": [
    "### Para remover um elemento pelo seu indice podemos utilizar o método <font color='red'>**pop(*i*)**</font>, onde *i* é o indice a ser removido. "
   ]
  },
  {
   "cell_type": "code",
   "execution_count": null,
   "metadata": {},
   "outputs": [],
   "source": [
    "print(lista_de_alunos)\n",
    "lista_de_alunos.pop(3)\n",
    "print(lista_de_alunos)"
   ]
  },
  {
   "cell_type": "markdown",
   "metadata": {},
   "source": [
    "### Se tentarmos remover um aluno que nao esta na lista iremos lhe deparar com um erro"
   ]
  },
  {
   "cell_type": "code",
   "execution_count": null,
   "metadata": {},
   "outputs": [],
   "source": [
    "print(lista_de_alunos)\n",
    "lista_de_alunos.remove(\"Ana\")"
   ]
  },
  {
   "cell_type": "markdown",
   "metadata": {},
   "source": [
    "### Listas podem conter todos tipos de valores simultaneamente"
   ]
  },
  {
   "cell_type": "code",
   "execution_count": null,
   "metadata": {},
   "outputs": [],
   "source": [
    "aluno = ['Murilo', 19, 1.79] # Nome, idade e altura\n",
    "\n",
    "print(type(aluno)) \n",
    "print(aluno)"
   ]
  },
  {
   "cell_type": "markdown",
   "metadata": {},
   "source": [
    "## 2.2 Tuplas"
   ]
  },
  {
   "cell_type": "markdown",
   "metadata": {},
   "source": [
    "### Tuplas são estruturas de dados semelhantes as listas, porém, as tuplas possuem a característica de serem <font color='red'>**imutáveis**</font>, ou seja, após uma tupla ser criada, ela <font color='red'>**não podera ser alterada** </font>"
   ]
  },
  {
   "cell_type": "code",
   "execution_count": null,
   "metadata": {},
   "outputs": [],
   "source": [
    "cardapio = ('Bife a milanesa', 'Lasanha', 'Cachorro quente', 'Pao de queijo')\n",
    "\n",
    "print(type(cardapio))\n",
    "print(cardapio)"
   ]
  },
  {
   "cell_type": "markdown",
   "metadata": {},
   "source": [
    "### Assim como é feito nas listas, podemos acessar um determinado valor na tupla pelo seu índice"
   ]
  },
  {
   "cell_type": "code",
   "execution_count": null,
   "metadata": {},
   "outputs": [],
   "source": [
    "print(cardapio[1])"
   ]
  },
  {
   "cell_type": "markdown",
   "metadata": {},
   "source": [
    "### Uma observação a ser feita no uso de uma tupla é que se ela tiver um <font color='red'>**único item**</font>, é necessário colocar uma vírgula depois dela, pois caso contrário, o objeto que iremos obter é uma string, porque o valor do item é do tipo string."
   ]
  },
  {
   "cell_type": "code",
   "execution_count": null,
   "metadata": {},
   "outputs": [],
   "source": [
    "objeto_string = ('tesoura')\n",
    "objeto_tupla = ('tesoura',)\n",
    "\n",
    "print(type(objeto_string))\n",
    "print(type(objeto_tupla))"
   ]
  },
  {
   "cell_type": "markdown",
   "metadata": {},
   "source": [
    "### O fato da tupla ser imutável faz com que os seus elementos não possam ser alterados depois dela já criada. <br> \n",
    "### Vamos usar a tupla vogais para mostrar um exemplo desse tipo"
   ]
  },
  {
   "cell_type": "code",
   "execution_count": null,
   "metadata": {},
   "outputs": [],
   "source": [
    "vogais = ('a', 'e', 'i', 'o', 'u')\n",
    "vogais[1] = 'E'"
   ]
  },
  {
   "cell_type": "markdown",
   "metadata": {},
   "source": [
    "### Para fixar esse conceito, lembre-se que: <br> \n",
    "- ### Tuplas e as strings são <font color='red'> **sequências imutáveis** </font>.\n",
    "- ### listas são <font color='red'> **sequências mutáveis** </font>. \n",
    "### Isso está de acordo com a [documentação oficial do Python.](https://docs.python.org/3.8/reference/datamodel.html#the-standard-type-hierarchy)"
   ]
  },
  {
   "cell_type": "markdown",
   "metadata": {
    "heading_collapsed": true
   },
   "source": [
    "### 🚨 Exemplo"
   ]
  },
  {
   "cell_type": "markdown",
   "metadata": {},
   "source": [
    "## 2.3 Dicionários"
   ]
  },
  {
   "cell_type": "markdown",
   "metadata": {},
   "source": [
    " - ### Os dicionários representam coleções de dados que contém na sua estrutura um <font color='red'> **conjunto de pares chave/valor** </font>, nos quais cada chave <font color='red'> **individual** </font> tem um valor associado.<br>\n",
    "- ### Esse objeto representa a ideia de um mapa, que entendemos como uma coleção associativa desordenada. \n",
    "- ### A associação nos dicionários é feita por meio de uma <font color='red'> **chave** </font> que faz <font color='red'> **referência** </font> a um valor"
   ]
  },
  {
   "cell_type": "markdown",
   "metadata": {},
   "source": [
    "### Exemplo:"
   ]
  },
  {
   "cell_type": "code",
   "execution_count": null,
   "metadata": {},
   "outputs": [],
   "source": [
    "dados_cliente = {\n",
    "    'Nome': 'Marcos',\n",
    "    'Endereco': 'Vila Sao Pedro',\n",
    "    'Telefone': '98250-3645'\n",
    "}\n",
    "\n",
    "print(dados_cliente)\n",
    "print(dados_cliente['Nome'])"
   ]
  },
  {
   "cell_type": "markdown",
   "metadata": {},
   "source": [
    "### A estrutura de um dicionário é delimitada por chaves, entre as quais ficam o conteúdo desse objeto. \n",
    "### Veja que é criada a variável *dados_cliente*, à qual é atribuída uma coleção de dados que, nesse caso, trata-se de um dicionário."
   ]
  },
  {
   "cell_type": "markdown",
   "metadata": {},
   "source": [
    "## \"*Nas listas e tuplas acessamos os dados por meio dos <font color= 'red'> índices </font>. Já nos dicionários, o acesso aos dados é feito por meio da <font color= 'red'> chave associada a eles</font>.*\""
   ]
  },
  {
   "cell_type": "markdown",
   "metadata": {},
   "source": [
    "### Para adicionar elementos em dicionário basta associar uma nova chave ao objeto e dar um valor a ser associado a ela."
   ]
  },
  {
   "cell_type": "code",
   "execution_count": null,
   "metadata": {},
   "outputs": [],
   "source": [
    "computador = {\n",
    "    'CPU': 'Intel',\n",
    "    'RAM': '8gb',\n",
    "    'SSD': '250bg'\n",
    "}\n",
    "print(computador)\n",
    "computador['Placa de Video'] = 'NVDIA'\n",
    "print(computador)"
   ]
  },
  {
   "cell_type": "markdown",
   "metadata": {},
   "source": [
    "### Para remover um item do dicionário, podemos usar o método <font color=\"red\"> **pop()**</font>"
   ]
  },
  {
   "cell_type": "code",
   "execution_count": null,
   "metadata": {},
   "outputs": [],
   "source": [
    "print(computador)\n",
    "computador.pop('RAM', None)\n",
    "print(computador)"
   ]
  },
  {
   "cell_type": "markdown",
   "metadata": {},
   "source": [
    "### Na célula anterior temos o uso do método <font color=\"red\"> **pop()** </font>, usado para remover o item '*RAM*’ do dicionário *computador*. \n",
    "- ### Temos na chamada do método o parâmetro None, que é passado depois da chave a ser removida. \n",
    "- ### O None serve para que a mensagem de erro KeyError não apareça devido a remoção de uma chave inexistente."
   ]
  },
  {
   "cell_type": "markdown",
   "metadata": {},
   "source": [
    "### Outra alternativa seria usar a palavra-chave del, que remove uma chave e o valor associado a ela no dicionário. Isso se faz por meio da passagem no parâmetro."
   ]
  },
  {
   "cell_type": "code",
   "execution_count": null,
   "metadata": {},
   "outputs": [],
   "source": [
    "carro = {\n",
    "  \"marca\": \"Ford\",\n",
    "  \"modelo\": \"Mustang\",\n",
    "  \"ano\": 1964,\n",
    "  \"cor\": \"Azul\"\n",
    "}\n",
    "print(carro)\n",
    "del carro[\"cor\"]\n",
    "print(carro)"
   ]
  },
  {
   "cell_type": "markdown",
   "metadata": {},
   "source": [
    "### Em Python podemos aninhar dicionarios. <br>\n",
    "### Um dicionário aninhado é um dicionário dentro de um dicionário. É uma coleção de dicionários em um único dicionário."
   ]
  },
  {
   "cell_type": "code",
   "execution_count": null,
   "metadata": {},
   "outputs": [],
   "source": [
    "familia = {\n",
    "           \"crianca1\": { \"nome\": \"Emil\", \"ano\": 2004},\n",
    "           \"crianca2\": { \"nome\": \"Tobias\", \"ano\": 2007}, \n",
    "           \"crianca3\": {\"nome\": \"Linus\", \"ano\": 2011}\n",
    "          }\n",
    "\n",
    "print(familia)\n",
    "familia[\"crianca1\"][\"nome\"]"
   ]
  },
  {
   "cell_type": "markdown",
   "metadata": {},
   "source": [
    "---"
   ]
  },
  {
   "cell_type": "markdown",
   "metadata": {},
   "source": [
    "# 3. Estruturas condicionais"
   ]
  },
  {
   "cell_type": "markdown",
   "metadata": {},
   "source": [
    "### Em Python, assim como na maioria das linguagens de programação, o programa deve ser capaz de tomar decisões com base em valores e resultados gerados durante sua execução, ou seja, deve ser capaz de decidir se determinada instrução deve ou não ser executada de acordo com uma condição. <br>\n",
    "### Para atender a esse tipo de situação, podemos utilizar instruções especiais denominadas estruturas condicionais."
   ]
  },
  {
   "cell_type": "markdown",
   "metadata": {},
   "source": [
    "## 3.1 Estruturas de condição: if"
   ]
  },
  {
   "cell_type": "markdown",
   "metadata": {},
   "source": [
    "### O <font color=\"red\"> **if** </font> é uma estrutura de condição que permite avaliar uma expressão e, de acordo com seu resultado, executar uma determinada ação."
   ]
  },
  {
   "cell_type": "code",
   "execution_count": null,
   "metadata": {},
   "outputs": [],
   "source": [
    "idade = 18\n",
    "if idade < 20:\n",
    "    print('Você é jovem!')"
   ]
  },
  {
   "cell_type": "markdown",
   "metadata": {},
   "source": [
    "## 3.2 Estruturas de condição: if-else"
   ]
  },
  {
   "cell_type": "markdown",
   "metadata": {},
   "source": [
    "### Vimos anteriormente como utilizar o if para executar uma ação caso uma condição seja atendida. No entanto, nenhum comportamento específico foi definido para o caso de a condição não ser satisfeita. Quando isso é necessário, precisamos utilizar a reservada <font color=\"red\"> **else** </font>."
   ]
  },
  {
   "cell_type": "code",
   "execution_count": null,
   "metadata": {},
   "outputs": [],
   "source": [
    "def subtracao(a, b):\n",
    "    return a - b\n",
    "\n",
    "diferenca = subtracao(8, 1)\n",
    "\n",
    "if diferenca > 0:\n",
    "    print(\"Resultado positivo!\")\n",
    "else:\n",
    "    print(\"Resultado negativo!\")"
   ]
  },
  {
   "cell_type": "markdown",
   "metadata": {},
   "source": [
    "## 3.3 Estruturas de condição: if-elif-else"
   ]
  },
  {
   "cell_type": "markdown",
   "metadata": {},
   "source": [
    "### Adicionalmente, se existir mais de uma condição alternativa que precisa ser verificada, devemos utilizar o <font color= 'red'> **elif** </font> elif para avaliar as expressões intermediárias antes de usar o else, da seguinte forma:"
   ]
  },
  {
   "cell_type": "code",
   "execution_count": null,
   "metadata": {},
   "outputs": [],
   "source": [
    "def orcamento_mensal(salario:float, conta_de_luz:float, conta_de_agua:float, despesas:float, investimentos:float, happy_hours:float):\n",
    "    return salario + investimentos - (happy_hours + conta_de_luz + conta_de_agua + despesas)\n",
    "\n",
    "meu_orcamento = orcamento_mensal(10000, 500, 400, 500, 3000, 10000)\n",
    "\n",
    "print(meu_orcamento)\n",
    "if meu_orcamento > 5000:\n",
    "    print(\"Voce esta acima do planejado. Continue assim\")\n",
    "elif meu_orcamento >= 2500 and meu_orcamento <= 4999:\n",
    "    print(\"Para este mes voce esta dentro do planejado\")\n",
    "else:\n",
    "    print(\"Voce nao atingiu a meta de orcamento mensal\")\n",
    "    "
   ]
  },
  {
   "cell_type": "markdown",
   "metadata": {},
   "source": [
    "### Tabela com os operadores de comparacao "
   ]
  },
  {
   "cell_type": "markdown",
   "metadata": {},
   "source": [
    "![operadores_de_comparacao](images/operadores_de_comparacao.PNG \"operadores_de_comparacao\")"
   ]
  },
  {
   "cell_type": "markdown",
   "metadata": {},
   "source": [
    "## 3.4 Expressão condicional"
   ]
  },
  {
   "cell_type": "markdown",
   "metadata": {},
   "source": [
    "## Em Python possuimos uma maneira mais simples de realizar uma ou mais comparacoes usando <font color='red'> Expressões condicionais</font>"
   ]
  },
  {
   "cell_type": "markdown",
   "metadata": {},
   "source": [
    "### Suponhamos que desejamos verificar se um numero é par ou ímpar.\n",
    "### Do jeito tradicional fariamos:"
   ]
  },
  {
   "cell_type": "code",
   "execution_count": null,
   "metadata": {},
   "outputs": [],
   "source": [
    "import random as rd\n",
    "\n",
    "def numero_aleatorio() -> int:\n",
    "    return rd.randint(1, 100)\n",
    "\n",
    "numero = numero_aleatorio()\n",
    "\n",
    "print(numero)\n",
    "\n",
    "if numero %2 == 0:\n",
    "    print(\"Par\")\n",
    "else:\n",
    "    print(\"Ímpar\")"
   ]
  },
  {
   "cell_type": "markdown",
   "metadata": {},
   "source": [
    "### Com a expressão condicional podemos fazer a comparacao em apenas uma linha:"
   ]
  },
  {
   "cell_type": "code",
   "execution_count": null,
   "metadata": {},
   "outputs": [],
   "source": [
    "import random as rd\n",
    "\n",
    "def numero_aleatorio() -> int:\n",
    "    return rd.randint(1, 100)\n",
    "\n",
    "numero = numero_aleatorio()\n",
    "\n",
    "print(numero)\n",
    "\n",
    "print (\"par\" if numero % 2 == 0 else \"impar\")"
   ]
  },
  {
   "cell_type": "markdown",
   "metadata": {},
   "source": [
    "---"
   ]
  },
  {
   "cell_type": "markdown",
   "metadata": {},
   "source": [
    "# 4. Estruturas de Repetição  ⚡"
   ]
  },
  {
   "cell_type": "markdown",
   "metadata": {},
   "source": [
    "![taxa_de_cambio](images/taxa_de_cambio.jpeg \"taxa_de_cambio\")"
   ]
  },
  {
   "cell_type": "markdown",
   "metadata": {},
   "source": [
    "### Iterar é a ação de repetir algo. Na programação, iteração significa a repetição de um conjunto de instruções por uma quantidade finita de vezes ou então, enquanto uma condição seja aceita. <br>\n",
    "### Ao desenvolvermos uma aplicação é comum haver a necessidade de executarmos uma mesma instrução por várias vezes. <br><br> Na linguagem python temos duas estruturas de repeticao, que são elas: <br>\n",
    "- ### <font color='red'> **for:** </font> O laço **for** geralmente é utilizado quando <font color='red'> **se sabe o número de iterações** </font> de antemão.\n",
    "- ### <font color='red'> **while:** </font> O laço **while** geralmente é utilizado quando <font color='red'> **se tem uma idéia** </font> sobre a faixa de valores em que se deseja realizar a iteração mas não se sabe ao certo o número exato de iterações que ocorrem."
   ]
  },
  {
   "cell_type": "markdown",
   "metadata": {},
   "source": [
    "## 4.1 estrutura de repetição **for**"
   ]
  },
  {
   "cell_type": "markdown",
   "metadata": {},
   "source": [
    "### A estrutura de repetição <font color='red'> **for** </font> permite executar um bloco de códigos repetidas vezes até uma determinada condicao de parada. <br> \n",
    "### Na linguagem Python, ela é utilizada para percorrer elementos em sequência, como uma string, uma lista, uma tupla ou objetos iteráveis."
   ]
  },
  {
   "cell_type": "markdown",
   "metadata": {},
   "source": [
    "### Percorrendo uma lista"
   ]
  },
  {
   "cell_type": "code",
   "execution_count": null,
   "metadata": {},
   "outputs": [],
   "source": [
    "frutas = ['Abacaxi', 'Morango', 'Uva']\n",
    "for fruta in frutas:\n",
    "    print(fruta)"
   ]
  },
  {
   "cell_type": "markdown",
   "metadata": {},
   "source": [
    "### Percorrendo uma tupla"
   ]
  },
  {
   "cell_type": "code",
   "execution_count": null,
   "metadata": {},
   "outputs": [],
   "source": [
    "veiculos = ('moto', 'carro', 'onibus')\n",
    "for veiculo in veiculos:\n",
    "    print(veiculo)"
   ]
  },
  {
   "cell_type": "markdown",
   "metadata": {},
   "source": [
    "### Percorrendo um dicionário"
   ]
  },
  {
   "cell_type": "code",
   "execution_count": null,
   "metadata": {},
   "outputs": [],
   "source": [
    "contatos = {'Mateus': '1234-5678', 'Lucas': '9999-9999',\n",
    "                    'Ana': '8765-4321', 'João': '8887-7778'}\n",
    "\n",
    "for contato, value in contatos.items():\n",
    "    print(f\"{contato}: {value}\")\n",
    "print(contatos.items())"
   ]
  },
  {
   "cell_type": "markdown",
   "metadata": {},
   "source": [
    "## Percorrendo uma string"
   ]
  },
  {
   "cell_type": "code",
   "execution_count": null,
   "metadata": {},
   "outputs": [],
   "source": [
    "palavra = \"tecnologia\"\n",
    "for letra in palavra:\n",
    "    print(letra)"
   ]
  },
  {
   "cell_type": "markdown",
   "metadata": {},
   "source": [
    "### Para parar um loop antes da hora podemos utilizar a instrucao <font color=\"red\"> **break** </font>"
   ]
  },
  {
   "cell_type": "code",
   "execution_count": null,
   "metadata": {},
   "outputs": [],
   "source": [
    "numeros = [3,5,6,7,1,100,1000,10000]\n",
    "for numero in numeros:\n",
    "    if numero >= 3:\n",
    "        print(numero)\n",
    "    else:\n",
    "        break"
   ]
  },
  {
   "cell_type": "markdown",
   "metadata": {},
   "source": []
  },
  {
   "cell_type": "markdown",
   "metadata": {},
   "source": [
    "> 📺 **YouTube:** https://youtube.com/c/codingisfun <br>\n",
    "> 🌎 **Website:** https://pythonandvba.com <br>\n",
    "> 📝 **GitHub:** https://github.com/Sven-Bo <br>\n",
    "> ⭐ **Discord:** https://pythonandvba.com/discord <br>\n",
    "> 💬 **EMail:** contact@pythonandvba.com <br>"
   ]
  }
 ],
 "metadata": {
  "interpreter": {
   "hash": "744e24d0957d42ad7b50819cc35ccf6cbf1ffdc9fa43baec5a1b56cdf1a86f6e"
  },
  "kernelspec": {
   "display_name": "Python 3.9.7 64-bit",
   "name": "python3"
  },
  "language_info": {
   "codemirror_mode": {
    "name": "ipython",
    "version": 3
   },
   "file_extension": ".py",
   "mimetype": "text/x-python",
   "name": "python",
   "nbconvert_exporter": "python",
   "pygments_lexer": "ipython3",
   "version": "3.9.7"
  }
 },
 "nbformat": 4,
 "nbformat_minor": 4
}
