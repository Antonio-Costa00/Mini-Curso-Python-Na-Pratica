{
 "cells": [
  {
   "cell_type": "markdown",
   "metadata": {},
   "source": [
    "# 🚀 Aula 01 - Conceitos básicos"
   ]
  },
  {
   "cell_type": "markdown",
   "metadata": {},
   "source": [
    "> Nesta aula iremos estar **aprendendo o básico de Python, como o que é Python, diferentes tipos de dados, estruturas de repeticao, e condicionais**"
   ]
  },
  {
   "cell_type": "markdown",
   "metadata": {},
   "source": [
    "***"
   ]
  },
  {
   "cell_type": "markdown",
   "metadata": {},
   "source": [
    "# 1. O que é Python?"
   ]
  },
  {
   "cell_type": "markdown",
   "metadata": {},
   "source": [
    "### 📢 O que são variáveis em Python? <br><br> Python é uma linguagem de programação orientada a objetos (POO = object-oriented programming language). Uma das característica de linguagens orientadas a objetos é facilitar que programadores criem novas classes para modelar os dados necessários para resolver problemas."
   ]
  },
  {
   "cell_type": "markdown",
   "metadata": {},
   "source": [
    "# 1. Variáveis"
   ]
  },
  {
   "cell_type": "markdown",
   "metadata": {},
   "source": [
    "### 📢 O que são variáveis em Python? <br><br> Variáveis são um dos recursos mais básicos das linguagens de programação. Utilizadas para armazenar valores em memória, elas nos permitem gravar e ler esses dados com facilidade a partir de um nome definido pelo programador."
   ]
  },
  {
   "cell_type": "markdown",
   "metadata": {
    "heading_collapsed": true
   },
   "source": [
    "### 🚨 Exemplo"
   ]
  },
  {
   "cell_type": "code",
   "execution_count": null,
   "metadata": {},
   "outputs": [],
   "source": []
  },
  {
   "cell_type": "markdown",
   "metadata": {
    "hidden": true
   },
   "source": [
    "- Making use of the different plotting libraries, e.g. interactive visualizations using Plotly\n",
    "- **Simplified Example** | In real-life, more often than not, datasets are not so well-structured"
   ]
  },
  {
   "cell_type": "markdown",
   "metadata": {},
   "source": [
    "### 📢 O que são variáveis em Python? <br><br> Variáveis são um dos recursos mais básicos das linguagens de programação. Utilizadas para armazenar valores em memória, elas nos permitem gravar e ler esses dados com facilidade a partir de um nome definido pelo programador."
   ]
  },
  {
   "cell_type": "markdown",
   "metadata": {
    "heading_collapsed": true
   },
   "source": [
    "### 🚨 Exemplo"
   ]
  },
  {
   "cell_type": "code",
   "execution_count": null,
   "metadata": {},
   "outputs": [],
   "source": []
  },
  {
   "cell_type": "markdown",
   "metadata": {
    "hidden": true
   },
   "source": [
    "- Making use of the different plotting libraries, e.g. interactive visualizations using Plotly\n",
    "- **Simplified Example** | In real-life, more often than not, datasets are not so well-structured"
   ]
  },
  {
   "cell_type": "markdown",
   "metadata": {},
   "source": [
    "# 2. Merge Excel Files (Real Life Example)"
   ]
  },
  {
   "cell_type": "markdown",
   "metadata": {},
   "source": [
    "### 📢 Purpose: <br><br>Merge multiple Excel files, perform calculations & insert (Excel) charts [keep excel formatting & formulas]"
   ]
  },
  {
   "cell_type": "markdown",
   "metadata": {},
   "source": [
    "### 🚨 Some Remarks"
   ]
  },
  {
   "cell_type": "markdown",
   "metadata": {},
   "source": [
    " **`xlwings` ..**\n",
    " - .. is just a smart wrapper around `pywin32` on Windows and `appscript` on Mac.\n",
    " - .. works nicely together with Pandas\n",
    " - .. (Excel) is not ideal when dealing with larger datasets.\n",
    " - .. has actually much more to offer. You can, for instance:\n",
    "     - write user-defined-functions (UDF) in Python\n",
    "     - run Python directly in Excel"
   ]
  },
  {
   "cell_type": "markdown",
   "metadata": {},
   "source": [
    "# 3. My take on Excel automation in general & VBA vs. Python ⚡"
   ]
  },
  {
   "cell_type": "markdown",
   "metadata": {},
   "source": [
    "## Should you try to automate all Excel files?"
   ]
  },
  {
   "cell_type": "markdown",
   "metadata": {},
   "source": [
    "---"
   ]
  },
  {
   "cell_type": "markdown",
   "metadata": {},
   "source": [
    "### 🚨 Use the right tool for the right job!"
   ]
  },
  {
   "cell_type": "markdown",
   "metadata": {},
   "source": [
    "#### 👉 MS Excel, PowerQuery, PowerBI, Database, VBA, Python, ..."
   ]
  },
  {
   "cell_type": "markdown",
   "metadata": {},
   "source": [
    "## VBA or Python? Which one should I use?"
   ]
  },
  {
   "cell_type": "markdown",
   "metadata": {},
   "source": [
    "**Overall:** <br>\n",
    "> Computer programming languages are like **tools in a toolbox**. Different tools are designed to solve different problems.\n",
    "- Python is a General-Purpose Language\n",
    "- Visual Basic for Applications (VBA) is a simple, but powerful programming language to extend Office applications\n",
    "\n",
    "**VBA:**<br>\n",
    "  👍 Syntax is very intuitive. Example: Range(\"A1:C7\").ClearContents <br>\n",
    "  👍 No additional installation is required (huge advantage!). Built in `Visual Basic Editor (VBE)` <br>\n",
    "  👎 It is restricted to Office Applications <br>\n",
    "\n",
    "**Python:**<br>\n",
    "  👍 Has very powerful packages (for data analysis, machine-/deeplearning, web development, ..) <br>\n",
    "  👍 Python is one of the fastest-growing programming languages <br>\n",
    "  👎 Requires additional setup: Python(distribution), Editor (other than Word or Notepad 😅)<br>\n",
    " \n",
    "___\n",
    "Python might be more powerful than VBA but like I said earlier, what matters is what you intend to achieve. There is no need killing a mosquito with an atomic bomb when a simple spray can do the job.\n",
    "\n",
    "At times I find VBA-Excel more appropriate for a certain task and much more efficient than Python. But I also like the powerful Python packages."
   ]
  },
  {
   "cell_type": "markdown",
   "metadata": {},
   "source": [
    "# 4. Connect with me 💬"
   ]
  },
  {
   "cell_type": "markdown",
   "metadata": {},
   "source": [
    "> 📺 **YouTube:** https://youtube.com/c/codingisfun <br>\n",
    "> 🌎 **Website:** https://pythonandvba.com <br>\n",
    "> 📝 **GitHub:** https://github.com/Sven-Bo <br>\n",
    "> ⭐ **Discord:** https://pythonandvba.com/discord <br>\n",
    "> 💬 **EMail:** contact@pythonandvba.com <br>"
   ]
  }
 ],
 "metadata": {
  "interpreter": {
   "hash": "744e24d0957d42ad7b50819cc35ccf6cbf1ffdc9fa43baec5a1b56cdf1a86f6e"
  },
  "kernelspec": {
   "display_name": "Python 3.9.7 64-bit",
   "name": "python3"
  },
  "language_info": {
   "codemirror_mode": {
    "name": "ipython",
    "version": 3
   },
   "file_extension": ".py",
   "mimetype": "text/x-python",
   "name": "python",
   "nbconvert_exporter": "python",
   "pygments_lexer": "ipython3",
   "version": "3.9.7"
  }
 },
 "nbformat": 4,
 "nbformat_minor": 4
}
