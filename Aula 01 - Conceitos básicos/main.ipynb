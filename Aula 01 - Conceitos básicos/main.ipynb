{
 "cells": [
  {
   "cell_type": "markdown",
   "metadata": {},
   "source": [
    "# 🚀 **Aula 01 - Conceitos básicos**"
   ]
  },
  {
   "cell_type": "markdown",
   "metadata": {},
   "source": [
    "## Nesta aula iremos estar aprendendo o básico de Python, como **o que é Python, diferentes tipos de dados, estruturas condicionais, estruturas de repeticao, funcoes, e no final, uma pequena surpresa.**"
   ]
  },
  {
   "cell_type": "markdown",
   "metadata": {},
   "source": [
    "***"
   ]
  },
  {
   "cell_type": "markdown",
   "metadata": {},
   "source": [
    "# **1. O que é Python?**  ⚡"
   ]
  },
  {
   "cell_type": "markdown",
   "metadata": {},
   "source": [
    "## **Em resumo** <br><br>\n",
    "\n",
    "### **Python** é uma linguagem de programação orientada a objetos. <br> \n",
    "### Tudo é em Python tratado como um objeto, incluindo variáveis, funções, listas, tuplas, dicionários, conjuntos, etc.  \n",
    "### Cada objeto pertence à sua classe. <br><br>"
   ]
  },
  {
   "cell_type": "markdown",
   "metadata": {},
   "source": [
    "<img src=\"images/nazaré.gif\" alt=\"Drawing\" style=\"width: 300px;\"/>"
   ]
  },
  {
   "cell_type": "markdown",
   "metadata": {},
   "source": [
    "### Exemplo:"
   ]
  },
  {
   "cell_type": "code",
   "execution_count": 1,
   "metadata": {},
   "outputs": [
    {
     "name": "stdout",
     "output_type": "stream",
     "text": [
      "pYtHOn na PráTiCA\n"
     ]
    }
   ],
   "source": [
    "meu_curso = 'pYtHOn na PráTiCA'\n",
    "print(meu_curso)"
   ]
  },
  {
   "cell_type": "markdown",
   "metadata": {},
   "source": [
    "### *meu_curso* é uma <font color='red'>**váriavel**</font>, com o valor *pYtHOn na PráTiCA*. <br><br>\n",
    "### A váriavel <font color='red'>**meu curso**</font> tambem é um <font color='red'>**objeto da classe string**</font> , e com isso, podemos utilizar <font color='red'>**métodos**</font> aplicaveis a ela. <br><br>\n",
    "### Vejamos abaixo a utilizacao do método capitalize() para formatar a string: "
   ]
  },
  {
   "cell_type": "code",
   "execution_count": 2,
   "metadata": {},
   "outputs": [
    {
     "name": "stdout",
     "output_type": "stream",
     "text": [
      "Python na prática\n"
     ]
    }
   ],
   "source": [
    "meu_curso_formatado = meu_curso.capitalize()\n",
    "print(meu_curso_formatado)"
   ]
  },
  {
   "cell_type": "markdown",
   "metadata": {},
   "source": [
    "### Em Python, todo método é chamado se escrevendo o objeto em questão (que pode ser uma váriavel, uma lista, uma string, uma funcao, etc...) mais um ponto \".\" com o nome do método em questão, seguidos de um par de parenteses (), como demonstrado acima."
   ]
  },
  {
   "cell_type": "markdown",
   "metadata": {},
   "source": [
    "---"
   ]
  },
  {
   "cell_type": "markdown",
   "metadata": {},
   "source": [
    "# **2. Tipos de dados**  ⚡"
   ]
  },
  {
   "cell_type": "markdown",
   "metadata": {},
   "source": [
    "<img src=\"images/dados.jfif\" alt=\"Drawing\" style=\"width: 400px;\"/>"
   ]
  },
  {
   "cell_type": "markdown",
   "metadata": {},
   "source": [
    "## Em python contemos varios tipos de dados. Vejamos a lista abaixo:"
   ]
  },
  {
   "cell_type": "markdown",
   "metadata": {},
   "source": [
    "- ### Números:\tint, long, float, complex\n",
    "- ### Strings:\tstr e unicode\n",
    "- ### Listas e tuplas:\tlist, tuple\n",
    "- ### Dicionários:\tdict\n",
    "- ### Arquivos:\tfile\n",
    "- ### Booleanos:\tbool (True, False)\n",
    "- ### Conjuntos:\tset, frozenset\n",
    "- ### None:\t"
   ]
  },
  {
   "cell_type": "markdown",
   "metadata": {},
   "source": [
    "## **2.1 Listas** <br>\n",
    "\n",
    "### Listas são coleções de valores indexados, em que cada valor é identificado por um <font color='red'>**índice**</font>. <br> \n",
    "### O primeiro item na lista está no índice 0, o segundo no índice 1 e assim por diante."
   ]
  },
  {
   "cell_type": "code",
   "execution_count": 8,
   "metadata": {},
   "outputs": [
    {
     "name": "stdout",
     "output_type": "stream",
     "text": [
      "Caio\n"
     ]
    }
   ],
   "source": [
    "lista_de_alunos = ['Lucas', 'Juliana', 'Maria Helena', 'Caio', 'Luana']\n",
    "print(lista_de_alunos[3])"
   ]
  },
  {
   "cell_type": "markdown",
   "metadata": {},
   "source": [
    "### Para se declarar uma lista primeiramente abrimos e fechamos colchetes e colocamos os elementos da lista dentro dos colchetes e cada elemente e separado por virgula."
   ]
  },
  {
   "cell_type": "code",
   "execution_count": 10,
   "metadata": {},
   "outputs": [
    {
     "name": "stdout",
     "output_type": "stream",
     "text": [
      "gato\n"
     ]
    }
   ],
   "source": [
    "lista_geral = ['cachorro', 'gato', 'coelho', 2, -9, 2.5 ]\n",
    "print(lista_geral[1])"
   ]
  },
  {
   "cell_type": "markdown",
   "metadata": {},
   "source": [
    "### Outra característica das listas em Python é que listas são **mutáveis**, podendo ser alteradas depois de terem sido criadas. <br>\n",
    "### Em outras palavras, podemos adicionar, remover e até mesmo alterar os itens de uma lista."
   ]
  },
  {
   "cell_type": "code",
   "execution_count": 14,
   "metadata": {},
   "outputs": [
    {
     "name": "stdout",
     "output_type": "stream",
     "text": [
      "['Lucas', 'Marcela', 'Maria Helena', 'Caio', 'Luana']\n",
      "['Lucas', 'Marcela', 'Maria Helena', 'Joao', 'Luana']\n"
     ]
    }
   ],
   "source": [
    "print(lista_de_alunos)\n",
    "lista_de_alunos[3] = \"Joao\"\n",
    "print(lista_de_alunos)"
   ]
  },
  {
   "cell_type": "markdown",
   "metadata": {},
   "source": [
    "## **2.2 Adicionando e removendo elementos em uma lista** <br>\n",
    "### Para adicionar elementos em uma lista podemos utilizar o método <font color='red'>**append()**</font>"
   ]
  },
  {
   "cell_type": "code",
   "execution_count": 16,
   "metadata": {},
   "outputs": [
    {
     "name": "stdout",
     "output_type": "stream",
     "text": [
      "['Lucas', 'Marcela', 'Maria Helena', 'Joao', 'Luana']\n",
      "['Lucas', 'Marcela', 'Maria Helena', 'Joao', 'Luana', 'Gustavo']\n"
     ]
    }
   ],
   "source": [
    "print(lista_de_alunos)\n",
    "lista_de_alunos.append(\"Gustavo\")\n",
    "print(lista_de_alunos)"
   ]
  },
  {
   "cell_type": "markdown",
   "metadata": {},
   "source": [
    "### Se quisermos adicionar o aluno Fernando em um lugar específico, como na 3a posicao, podemos utilizar o método <font color='red'>**insert (*i, Valor*)**</font>, onde *i* é o indice a ser incluido e *Valor* é o valor a ser incluso. "
   ]
  },
  {
   "cell_type": "code",
   "execution_count": 18,
   "metadata": {},
   "outputs": [
    {
     "name": "stdout",
     "output_type": "stream",
     "text": [
      "['Lucas', 'Marcela', 'Maria Helena', 'Joao', 'Luana', 'Gustavo']\n",
      "['Lucas', 'Marcela', 'Fernando', 'Maria Helena', 'Joao', 'Luana', 'Gustavo']\n"
     ]
    }
   ],
   "source": [
    "print(lista_de_alunos)\n",
    "lista_de_alunos.insert(2, \"Fernando\")\n",
    "print(lista_de_alunos)"
   ]
  },
  {
   "cell_type": "markdown",
   "metadata": {
    "hidden": true
   },
   "source": [
    "### O mesmo vale para remocao de dados. <br>\n",
    "### Suponhamos que queiramos remover o aluno Caio da lista. <br>\n",
    "### Podemos fazer isso utilizando o método <font color='red'>**remove(*Valor*)**</font>, onde *Valor* é o valor a ser removido. "
   ]
  },
  {
   "cell_type": "code",
   "execution_count": 20,
   "metadata": {},
   "outputs": [
    {
     "name": "stdout",
     "output_type": "stream",
     "text": [
      "['Lucas', 'Marcela', 'Fernando', 'Maria Helena', 'Joao', 'Luana', 'Gustavo']\n",
      "['Lucas', 'Fernando', 'Maria Helena', 'Joao', 'Luana', 'Gustavo']\n"
     ]
    }
   ],
   "source": [
    "print(lista_de_alunos)\n",
    "lista_de_alunos.remove(\"Marcela\")\n",
    "print(lista_de_alunos)"
   ]
  },
  {
   "cell_type": "markdown",
   "metadata": {},
   "source": [
    "### Para remover um elemento pelo seu indice podemos utilizar o método <font color='red'>**pop(*i*)**</font>, onde *i* é o indice a ser removido. "
   ]
  },
  {
   "cell_type": "code",
   "execution_count": 22,
   "metadata": {},
   "outputs": [
    {
     "name": "stdout",
     "output_type": "stream",
     "text": [
      "['Lucas', 'Fernando', 'Maria Helena', 'Joao', 'Luana', 'Gustavo']\n",
      "['Lucas', 'Fernando', 'Maria Helena', 'Luana', 'Gustavo']\n"
     ]
    }
   ],
   "source": [
    "print(lista_de_alunos)\n",
    "lista_de_alunos.pop(3)\n",
    "print(lista_de_alunos)"
   ]
  },
  {
   "cell_type": "markdown",
   "metadata": {},
   "source": [
    "### Se tentarmos remover um aluno que nao esta na lista iremos lhe deparar com um erro"
   ]
  },
  {
   "cell_type": "code",
   "execution_count": null,
   "metadata": {},
   "outputs": [],
   "source": [
    "print(lista_de_alunos)\n",
    "lista_de_alunos.remove(\"Ana\")"
   ]
  },
  {
   "cell_type": "markdown",
   "metadata": {},
   "source": [
    "### Listas podem conter todos tipos de valores simultaneamente"
   ]
  },
  {
   "cell_type": "code",
   "execution_count": 26,
   "metadata": {},
   "outputs": [
    {
     "name": "stdout",
     "output_type": "stream",
     "text": [
      "<class 'list'>\n",
      "['Murilo', 19, 1.79]\n"
     ]
    }
   ],
   "source": [
    "aluno = ['Murilo', 19, 1.79] # Nome, idade e altura\n",
    "\n",
    "print(type(aluno))\n",
    "print(aluno)"
   ]
  },
  {
   "cell_type": "markdown",
   "metadata": {},
   "source": [
    "## **2.3 Tuplas**"
   ]
  },
  {
   "cell_type": "markdown",
   "metadata": {},
   "source": [
    "### Tuplas são estruturas de dados semelhantes as listas, porém, as tuplas possuem a característica de serem <font color='red'>**imutáveis**</font>, ou seja, após uma tupla ser criada, ela <font color='red'>**não podera ser alterada** </font>"
   ]
  },
  {
   "cell_type": "code",
   "execution_count": 27,
   "metadata": {},
   "outputs": [
    {
     "name": "stdout",
     "output_type": "stream",
     "text": [
      "<class 'tuple'>\n",
      "('Bife a milanesa', 'Lasanha', 'Cachorro quente', 'Pao de queijo')\n"
     ]
    }
   ],
   "source": [
    "cardapio = ('Bife a milanesa', 'Lasanha', 'Cachorro quente', 'Pao de queijo')\n",
    "\n",
    "print(type(cardapio))\n",
    "print(cardapio)"
   ]
  },
  {
   "cell_type": "markdown",
   "metadata": {},
   "source": [
    "### Assim como é feito nas listas, podemos acessar um determinado valor na tupla pelo seu índice, lembrando que o índice [0] é o primeiro elemento da tupla"
   ]
  },
  {
   "cell_type": "code",
   "execution_count": 28,
   "metadata": {},
   "outputs": [
    {
     "name": "stdout",
     "output_type": "stream",
     "text": [
      "Lasanha\n"
     ]
    }
   ],
   "source": [
    "print(cardapio[1])"
   ]
  },
  {
   "cell_type": "markdown",
   "metadata": {},
   "source": [
    "### Uma observação a ser feita no uso de uma tupla é que se ela tiver um <font color='red'>**único item**</font>, é necessário colocar uma vírgula depois dela, pois caso contrário, o objeto que iremos obter é uma string, porque o valor do item é do tipo string."
   ]
  },
  {
   "cell_type": "code",
   "execution_count": 29,
   "metadata": {},
   "outputs": [
    {
     "name": "stdout",
     "output_type": "stream",
     "text": [
      "<class 'str'>\n",
      "<class 'tuple'>\n"
     ]
    }
   ],
   "source": [
    "objeto_string = ('tesoura')\n",
    "objeto_tupla = ('tesoura',)\n",
    "\n",
    "print(type(objeto_string))\n",
    "print(type(objeto_tupla))"
   ]
  },
  {
   "cell_type": "markdown",
   "metadata": {},
   "source": [
    "### Para criar uma tupla utilzamos um par de parenteses"
   ]
  },
  {
   "cell_type": "code",
   "execution_count": 30,
   "metadata": {},
   "outputs": [
    {
     "name": "stdout",
     "output_type": "stream",
     "text": [
      "('mustang', 'fusca', 'gol')\n"
     ]
    }
   ],
   "source": [
    "tupla_de_carros = ('mustang', 'fusca', 'gol')\n",
    "print(tupla_de_carros)"
   ]
  },
  {
   "cell_type": "markdown",
   "metadata": {},
   "source": [
    "### O fato da tupla ser imutável faz com que os seus elementos não possam ser alterados depois dela já criada. <br> \n",
    "### Vamos usar a tupla vogais para mostrar um exemplo desse tipo"
   ]
  },
  {
   "cell_type": "code",
   "execution_count": 32,
   "metadata": {},
   "outputs": [
    {
     "name": "stdout",
     "output_type": "stream",
     "text": [
      "['a', 'E', 'i', 'o', 'u']\n"
     ]
    }
   ],
   "source": [
    "vogais_lista = ['a', 'e', 'i', 'o', 'u']\n",
    "vogais_lista[1] = 'E'\n",
    "print(vogais_lista)"
   ]
  },
  {
   "cell_type": "code",
   "execution_count": null,
   "metadata": {},
   "outputs": [],
   "source": [
    "vogais_tupla = ('a', 'e', 'i', 'o', 'u')\n",
    "vogais_tupla[1] = 'E'"
   ]
  },
  {
   "cell_type": "markdown",
   "metadata": {},
   "source": [
    "### Para fixar esse conceito, lembre-se que: <br> \n",
    "- ### Tuplas e as strings são <font color='red'> **sequências imutáveis** </font>.\n",
    "- ### listas são <font color='red'> **sequências mutáveis** </font>. \n",
    "### Isso está de acordo com a [documentação oficial do Python.](https://docs.python.org/3.8/reference/datamodel.html#the-standard-type-hierarchy)"
   ]
  },
  {
   "cell_type": "markdown",
   "metadata": {},
   "source": [
    "## **2.4 Sets (Conjuntos)**"
   ]
  },
  {
   "cell_type": "markdown",
   "metadata": {},
   "source": [
    "### Um set em Python é uma coleção de itens únicos (distintos)."
   ]
  },
  {
   "cell_type": "markdown",
   "metadata": {},
   "source": [
    "### Python nos permite criar sets de várias formas. <br>\n",
    "### Uma das mais formas mais frequentemente usadas é criar um set a partir de uma lista de elementos."
   ]
  },
  {
   "cell_type": "code",
   "execution_count": 41,
   "metadata": {},
   "outputs": [
    {
     "name": "stdout",
     "output_type": "stream",
     "text": [
      "Números:  [1, 2, 3, 4, 3, 3]\n",
      "Números distintos:  {1, 2, 3, 4}\n"
     ]
    }
   ],
   "source": [
    "numeros = [1, 2, 3, 4, 3, 3]\n",
    "numeros_distintos = set(numeros)\n",
    "print(\"Números: \", numeros)\n",
    "print(\"Números distintos: \", numeros_distintos)"
   ]
  },
  {
   "cell_type": "code",
   "execution_count": 36,
   "metadata": {},
   "outputs": [
    {
     "name": "stdout",
     "output_type": "stream",
     "text": [
      "{2, 3, 4, 5}\n"
     ]
    }
   ],
   "source": [
    "meu_set = {2,3,4,5,5,5,5}\n",
    "print(meu_set)"
   ]
  },
  {
   "cell_type": "markdown",
   "metadata": {},
   "source": [
    "### Lembrando que sets nao seguem um padrao de indices como as listas e tuplas"
   ]
  },
  {
   "cell_type": "code",
   "execution_count": 43,
   "metadata": {},
   "outputs": [
    {
     "data": {
      "text/plain": [
       "{'abacaxi', 'goiaba', 'limao', 'maca', 'morango', 'pera'}"
      ]
     },
     "execution_count": 43,
     "metadata": {},
     "output_type": "execute_result"
    }
   ],
   "source": [
    "set_frutas = {'maca', 'pera', 'goiaba','abacaxi', 'goiaba', 'limao', 'pera', 'morango'}\n",
    "set_frutas"
   ]
  },
  {
   "cell_type": "markdown",
   "metadata": {},
   "source": [
    "### Outra forma de criarmos sets em Python é criar um conjunto vazio e inserir elementos nele à medida que desejarmos."
   ]
  },
  {
   "cell_type": "code",
   "execution_count": 40,
   "metadata": {},
   "outputs": [
    {
     "name": "stdout",
     "output_type": "stream",
     "text": [
      "Números:  [1, 2, 2, 3, 3, 3]\n",
      "Números distintos:  {1, 2, 3}\n"
     ]
    }
   ],
   "source": [
    "numeros = [1, 2, 2, 3, 3, 3]\n",
    "numeros_distintos = set()\n",
    "numeros_distintos \n",
    "for num in numeros:\n",
    "    numeros_distintos.add(num)\n",
    "print(\"Números: \", numeros)\n",
    "print(\"Números distintos: \", numeros_distintos)"
   ]
  },
  {
   "cell_type": "markdown",
   "metadata": {},
   "source": [
    "### Obs: "
   ]
  },
  {
   "cell_type": "markdown",
   "metadata": {},
   "source": [
    "- ### Para inserir um elemento em uma lista, podemos usar os métodos insert ou append, mas para inserir um elemento em um set podemos usar somente o método <font colot='red'>**add**</font>. <br> \n",
    "- ### Essa diferença decorre do fato de que em uma lista temos um controle da posição dos elementos: <br>\n",
    "- ### insert nos permite inserir um elemento em uma posição específica da lista e append adiciona um elemento ao final da lista. <br>\n",
    "- ### Porém em um set não temos controle sobre a ordem na qual os elementos são armazenados. <br> \n",
    "- ### A única garantia que temos é que <font color='red'>**elementos duplicados não serão inseridos.**</font>"
   ]
  },
  {
   "cell_type": "markdown",
   "metadata": {},
   "source": [
    "### Para remover itens de um set podemos usar os métodos <font color='red'>**remove**</font> ou <font color='red'>**discard.**</font>"
   ]
  },
  {
   "cell_type": "markdown",
   "metadata": {},
   "source": [
    "### Método remove: <br>\n",
    "### Remove o elemento em questao porém se tentarmos remover um elemento inexistente o método causara uma excecao."
   ]
  },
  {
   "cell_type": "code",
   "execution_count": 46,
   "metadata": {},
   "outputs": [
    {
     "name": "stdout",
     "output_type": "stream",
     "text": [
      "Números:  {1, 3}\n"
     ]
    },
    {
     "ename": "KeyError",
     "evalue": "4",
     "output_type": "error",
     "traceback": [
      "\u001b[1;31m---------------------------------------------------------------------------\u001b[0m",
      "\u001b[1;31mKeyError\u001b[0m                                  Traceback (most recent call last)",
      "\u001b[1;32m~\\AppData\\Local\\Temp/ipykernel_13888/824861327.py\u001b[0m in \u001b[0;36m<module>\u001b[1;34m\u001b[0m\n\u001b[0;32m      2\u001b[0m \u001b[0mnums\u001b[0m\u001b[1;33m.\u001b[0m\u001b[0mremove\u001b[0m\u001b[1;33m(\u001b[0m\u001b[1;36m2\u001b[0m\u001b[1;33m)\u001b[0m\u001b[1;33m\u001b[0m\u001b[1;33m\u001b[0m\u001b[0m\n\u001b[0;32m      3\u001b[0m \u001b[0mprint\u001b[0m\u001b[1;33m(\u001b[0m\u001b[1;34m\"Números: \"\u001b[0m\u001b[1;33m,\u001b[0m \u001b[0mnums\u001b[0m\u001b[1;33m)\u001b[0m\u001b[1;33m\u001b[0m\u001b[1;33m\u001b[0m\u001b[0m\n\u001b[1;32m----> 4\u001b[1;33m \u001b[0mnums\u001b[0m\u001b[1;33m.\u001b[0m\u001b[0mremove\u001b[0m\u001b[1;33m(\u001b[0m\u001b[1;36m4\u001b[0m\u001b[1;33m)\u001b[0m\u001b[1;33m\u001b[0m\u001b[1;33m\u001b[0m\u001b[0m\n\u001b[0m\u001b[0;32m      5\u001b[0m \u001b[0mprint\u001b[0m\u001b[1;33m(\u001b[0m\u001b[1;34m\"Números: \"\u001b[0m\u001b[1;33m,\u001b[0m \u001b[0mnums\u001b[0m\u001b[1;33m)\u001b[0m\u001b[1;33m\u001b[0m\u001b[1;33m\u001b[0m\u001b[0m\n",
      "\u001b[1;31mKeyError\u001b[0m: 4"
     ]
    }
   ],
   "source": [
    "nums = set([1, 2, 2, 3, 3, 3])\n",
    "nums.remove(2)\n",
    "print(\"Números: \", nums)\n",
    "nums.remove(4)\n",
    "print(\"Números: \", nums)"
   ]
  },
  {
   "cell_type": "markdown",
   "metadata": {},
   "source": [
    "### Metodo discard: <br>\n",
    "### Remove o elemento em questao porém se tentarmos remover um elemento inexistente o método não ira causar uma excecao."
   ]
  },
  {
   "cell_type": "code",
   "execution_count": 45,
   "metadata": {},
   "outputs": [
    {
     "name": "stdout",
     "output_type": "stream",
     "text": [
      "{1, 3}\n"
     ]
    }
   ],
   "source": [
    "nums = set([1, 2, 2, 3, 3, 3])\n",
    "nums.discard(4) \n",
    "nums.discard(2)\n",
    "print(nums)"
   ]
  },
  {
   "cell_type": "markdown",
   "metadata": {},
   "source": [
    "### Podemos remover todos elementos de um set usando o método clear"
   ]
  },
  {
   "cell_type": "code",
   "execution_count": 47,
   "metadata": {},
   "outputs": [
    {
     "name": "stdout",
     "output_type": "stream",
     "text": [
      "Números:  {1, 2, 3}\n",
      "Números:  set()\n"
     ]
    }
   ],
   "source": [
    "nums = set([1, 2, 2, 3, 3, 3])\n",
    "print(\"Números: \", nums)\n",
    "nums.clear()\n",
    "print(\"Números: \", nums)"
   ]
  },
  {
   "cell_type": "markdown",
   "metadata": {},
   "source": [
    "### Pergunta:"
   ]
  },
  {
   "cell_type": "markdown",
   "metadata": {},
   "source": [
    "### Suponhamos que temos uma lista com varios valores repetidos e desejamos apenas imprimir uma **lista** com valores únicos.\n",
    "### Como poderiamos fazer isso?"
   ]
  },
  {
   "cell_type": "code",
   "execution_count": 58,
   "metadata": {},
   "outputs": [],
   "source": [
    "animais = [\"cachorro\", \"gato\", \"passaro\", \"cobra\", \"elefante\", \"cachorro\", \"passaro\", \"coelho\"]"
   ]
  },
  {
   "cell_type": "code",
   "execution_count": 52,
   "metadata": {},
   "outputs": [
    {
     "data": {
      "text/plain": [
       "{'cachorro', 'cobra', 'coelho', 'elefante', 'gato', 'passaro'}"
      ]
     },
     "execution_count": 52,
     "metadata": {},
     "output_type": "execute_result"
    }
   ],
   "source": [
    "set_animais = set(animais)\n",
    "set_animais"
   ]
  },
  {
   "cell_type": "code",
   "execution_count": 53,
   "metadata": {},
   "outputs": [
    {
     "data": {
      "text/plain": [
       "['gato', 'coelho', 'cobra', 'cachorro', 'elefante', 'passaro']"
      ]
     },
     "execution_count": 53,
     "metadata": {},
     "output_type": "execute_result"
    }
   ],
   "source": [
    "animais_lista_unicos = list(set_animais)\n",
    "animais_lista_unicos"
   ]
  },
  {
   "cell_type": "markdown",
   "metadata": {},
   "source": [
    "### De uma forma mais rapida poderianmos fazzer:"
   ]
  },
  {
   "cell_type": "code",
   "execution_count": 59,
   "metadata": {},
   "outputs": [
    {
     "data": {
      "text/plain": [
       "['gato', 'coelho', 'cobra', 'cachorro', 'elefante', 'passaro']"
      ]
     },
     "execution_count": 59,
     "metadata": {},
     "output_type": "execute_result"
    }
   ],
   "source": [
    "list(set(animais))"
   ]
  },
  {
   "cell_type": "markdown",
   "metadata": {},
   "source": [
    "## **2.5 Dicionários**"
   ]
  },
  {
   "cell_type": "markdown",
   "metadata": {},
   "source": [
    " - ### Os dicionários representam coleções de dados que contém na sua estrutura um <font color='red'> **conjunto de pares chave/valor** </font>, nos quais cada chave <font color='red'> **individual** </font> tem um valor associado.<br>\n",
    "- ### Esse objeto representa a ideia de um mapa, que entendemos como uma coleção associativa desordenada. \n",
    "- ### A associação nos dicionários é feita por meio de uma <font color='red'> **chave** </font> que faz <font color='red'> **referência** </font> a um valor."
   ]
  },
  {
   "cell_type": "markdown",
   "metadata": {},
   "source": [
    "### Exemplo:"
   ]
  },
  {
   "cell_type": "code",
   "execution_count": 62,
   "metadata": {},
   "outputs": [
    {
     "name": "stdout",
     "output_type": "stream",
     "text": [
      "{'Nome': 'Marcos', 'Endereco': 'Vila Sao Pedro', 'Telefone': '98250-3645'}\n",
      "Marcos\n"
     ]
    }
   ],
   "source": [
    "dados_cliente = {\n",
    "    #chave: valor\n",
    "    'Nome': 'Marcos',\n",
    "    'Endereco': 'Vila Sao Pedro',\n",
    "    'Telefone': '98250-3645'\n",
    "}\n",
    "\n",
    "print(dados_cliente)\n",
    "print(dados_cliente['Nome'])"
   ]
  },
  {
   "cell_type": "markdown",
   "metadata": {},
   "source": [
    "### A estrutura de um dicionário é delimitada por chaves, entre as quais ficam o conteúdo desse objeto. \n",
    "### Veja que é criada a variável *dados_cliente*, à qual é atribuída uma coleção de dados que, nesse caso, trata-se de um dicionário."
   ]
  },
  {
   "cell_type": "markdown",
   "metadata": {},
   "source": [
    "### \"Nas listas e tuplas acessamos os dados por meio dos <font color= 'red'> **índices** </font>. Já nos dicionários, o acesso aos dados é feito por meio da <font color= 'red'> **chave associada a eles**</font>.\""
   ]
  },
  {
   "cell_type": "code",
   "execution_count": 63,
   "metadata": {},
   "outputs": [
    {
     "name": "stdout",
     "output_type": "stream",
     "text": [
      "8gb\n"
     ]
    }
   ],
   "source": [
    "computador = {\n",
    "    'CPU': 'Intel',\n",
    "    'RAM': '8gb',\n",
    "    'SSD': '250gb'\n",
    "}\n",
    "print(computador['RAM'])"
   ]
  },
  {
   "cell_type": "markdown",
   "metadata": {},
   "source": [
    "### Para adicionar elementos em dicionário basta associar uma nova chave ao objeto e dar um valor a ser associado a ela."
   ]
  },
  {
   "cell_type": "code",
   "execution_count": 68,
   "metadata": {},
   "outputs": [
    {
     "name": "stdout",
     "output_type": "stream",
     "text": [
      "{'CPU': 'Intel', 'RAM': '8gb', 'SSD': '250gb'}\n",
      "{'CPU': 'Intel', 'RAM': '8gb', 'SSD': '250gb', 'Placa de Video': 'NVDIA'}\n"
     ]
    }
   ],
   "source": [
    "computador = {\n",
    "    'CPU': 'Intel',\n",
    "    'RAM': '8gb',\n",
    "    'SSD': '250gb'\n",
    "}\n",
    "print(computador)\n",
    "computador['Placa de Video'] = 'NVDIA'\n",
    "print(computador)"
   ]
  },
  {
   "cell_type": "code",
   "execution_count": 69,
   "metadata": {},
   "outputs": [
    {
     "name": "stdout",
     "output_type": "stream",
     "text": [
      "{'CPU': 'Intel', 'RAM': '8gb', 'SSD': '250gb', 'Placa de Video': 'NVDIA'}\n",
      "{'CPU': 'Intel', 'RAM': '16', 'SSD': '250gb', 'Placa de Video': 'NVDIA'}\n"
     ]
    }
   ],
   "source": [
    "print(computador)\n",
    "computador['RAM'] = '16'\n",
    "print(computador)"
   ]
  },
  {
   "cell_type": "markdown",
   "metadata": {},
   "source": [
    "### Para remover um item do dicionário, podemos usar o método <font color=\"red\"> **pop()**</font>"
   ]
  },
  {
   "cell_type": "code",
   "execution_count": 73,
   "metadata": {},
   "outputs": [
    {
     "name": "stdout",
     "output_type": "stream",
     "text": [
      "{'CPU': 'Intel', 'SSD': '250gb', 'Placa de Video': 'NVDIA'}\n",
      "{'CPU': 'Intel', 'SSD': '250gb', 'Placa de Video': 'NVDIA'}\n"
     ]
    }
   ],
   "source": [
    "print(computador)\n",
    "computador.pop('RAM', None)\n",
    "print(computador)"
   ]
  },
  {
   "cell_type": "markdown",
   "metadata": {},
   "source": [
    "### Na célula anterior temos o uso do método <font color=\"red\"> **pop()** </font>, usado para remover o item '*RAM*’ do dicionário *computador*. \n",
    "- ### Temos na chamada do método o parâmetro None, que é passado depois da chave a ser removida. \n",
    "- ### O None serve para que a mensagem de erro KeyError não apareça devido a remoção de uma chave inexistente."
   ]
  },
  {
   "cell_type": "markdown",
   "metadata": {},
   "source": [
    "### Outra alternativa seria usar a palavra-chave del, que remove uma chave e o valor associado a ela no dicionário. <br>\n",
    "### Isso se faz por meio da passagem no parâmetro."
   ]
  },
  {
   "cell_type": "code",
   "execution_count": 75,
   "metadata": {},
   "outputs": [
    {
     "name": "stdout",
     "output_type": "stream",
     "text": [
      "{'marca': 'Ford', 'modelo': 'Mustang', 'ano': 1964, 'cor': 'Azul'}\n",
      "{'marca': 'Ford', 'modelo': 'Mustang', 'ano': 1964}\n"
     ]
    }
   ],
   "source": [
    "carro = {\n",
    "  \"marca\": \"Ford\",\n",
    "  \"modelo\": \"Mustang\",\n",
    "  \"ano\": 1964,\n",
    "  \"cor\": \"Azul\"\n",
    "}\n",
    "print(carro)\n",
    "del carro[\"cor\"]\n",
    "print(carro)"
   ]
  },
  {
   "cell_type": "markdown",
   "metadata": {},
   "source": [
    "### Em Python podemos aninhar dicionarios. <br>\n",
    "### Um dicionário aninhado é um dicionário dentro de um dicionário. <br>\n",
    "### É uma coleção de dicionários em um único dicionário."
   ]
  },
  {
   "cell_type": "code",
   "execution_count": 77,
   "metadata": {},
   "outputs": [
    {
     "name": "stdout",
     "output_type": "stream",
     "text": [
      "{'crianca1': {'nome': 'Mateus', 'ano': 2004}, 'crianca2': {'nome': 'Lucas', 'ano': 2007}, 'crianca3': {'nome': 'Sabrina', 'ano': 2011}}\n"
     ]
    },
    {
     "data": {
      "text/plain": [
       "'Mateus'"
      ]
     },
     "execution_count": 77,
     "metadata": {},
     "output_type": "execute_result"
    }
   ],
   "source": [
    "familia = {\n",
    "           \"crianca1\": { \"nome\": \"Mateus\", \"ano\": 2004},\n",
    "           \"crianca2\": { \"nome\": \"Lucas\", \"ano\": 2007}, \n",
    "           \"crianca3\": {\"nome\": \"Sabrina\", \"ano\": 2011}\n",
    "          }\n",
    "\n",
    "print(familia)\n",
    "familia[\"crianca1\"][\"nome\"]"
   ]
  },
  {
   "cell_type": "markdown",
   "metadata": {},
   "source": [
    "## **2.6 Em resumo**"
   ]
  },
  {
   "cell_type": "markdown",
   "metadata": {},
   "source": [
    "- ### Lista é uma coleção ordenada e mutável. Permite membros duplicados.\n",
    "- ### Tupla é uma coleção ordenada e imutável. Permite membros duplicados.\n",
    "- ### Set é uma coleção não ordenada, imutável e não indexada. Nenhum membro duplicado.\n",
    "- ### O dicionário é uma coleção ordenada e mutável. Nenhum membro duplicado."
   ]
  },
  {
   "cell_type": "markdown",
   "metadata": {},
   "source": [
    "---"
   ]
  },
  {
   "cell_type": "markdown",
   "metadata": {},
   "source": [
    "# **3. Estruturas condicionais** ⚡"
   ]
  },
  {
   "cell_type": "markdown",
   "metadata": {},
   "source": [
    "<img src=\"images/if-else.jpg\" alt=\"Drawing\" style=\"width: 400px;\"/>"
   ]
  },
  {
   "cell_type": "markdown",
   "metadata": {},
   "source": [
    "### Em Python, assim como na maioria das linguagens de programação, o programa deve ser capaz de tomar decisões com base em valores e resultados gerados durante sua execução, ou seja, deve ser capaz de decidir se determinada instrução deve ou não ser executada de acordo com uma condição. <br>\n",
    "### Para atender a esse tipo de situação, podemos utilizar instruções especiais denominadas estruturas condicionais."
   ]
  },
  {
   "cell_type": "markdown",
   "metadata": {},
   "source": [
    "## **3.1 Estruturas de condição: if**"
   ]
  },
  {
   "cell_type": "markdown",
   "metadata": {},
   "source": [
    "### O <font color=\"red\"> **if** </font> é uma estrutura de condição que permite avaliar uma expressão e, de acordo com seu resultado, executar uma determinada ação."
   ]
  },
  {
   "cell_type": "code",
   "execution_count": 81,
   "metadata": {},
   "outputs": [],
   "source": [
    "idade = 20\n",
    "if idade < 20:\n",
    "    print('Você é jovem!')"
   ]
  },
  {
   "cell_type": "markdown",
   "metadata": {},
   "source": [
    "## **3.2 Estruturas de condição: if-else**"
   ]
  },
  {
   "cell_type": "markdown",
   "metadata": {},
   "source": [
    "### Vimos anteriormente como utilizar o if para executar uma ação caso uma condição seja atendida. <br>\n",
    "### No entanto, nenhum comportamento específico foi definido para o caso de a condição não ser satisfeita. <br>\n",
    "### Quando isso é necessário, precisamos utilizar a reservada <font color=\"red\"> **else** </font>."
   ]
  },
  {
   "cell_type": "code",
   "execution_count": 86,
   "metadata": {},
   "outputs": [
    {
     "name": "stdout",
     "output_type": "stream",
     "text": [
      "-1\n",
      "Resultado negativo!\n"
     ]
    }
   ],
   "source": [
    "def subtracao(a, b):\n",
    "    return a - b\n",
    "\n",
    "diferenca = subtracao(valor1, valor2)\n",
    "print(diferenca)\n",
    "\n",
    "if diferenca > 0:\n",
    "    print(\"Resultado positivo!\")\n",
    "else:\n",
    "    print(\"Resultado negativo!\")"
   ]
  },
  {
   "cell_type": "markdown",
   "metadata": {},
   "source": [
    "## **3.3 Estruturas de condição: if-elif-else**"
   ]
  },
  {
   "cell_type": "markdown",
   "metadata": {},
   "source": [
    "### Adicionalmente, se existir mais de uma condição alternativa que precisa ser verificada, devemos utilizar o <font color= 'red'> **elif** </font>para avaliar as expressões intermediárias antes de usar o else, da seguinte forma:"
   ]
  },
  {
   "cell_type": "markdown",
   "metadata": {},
   "source": [
    "### elif: else if en python"
   ]
  },
  {
   "cell_type": "code",
   "execution_count": 89,
   "metadata": {},
   "outputs": [
    {
     "name": "stdout",
     "output_type": "stream",
     "text": [
      "1600\n",
      "Você não atingiu a meta de orcamento mensal\n"
     ]
    }
   ],
   "source": [
    "def orcamento_mensal(salario, conta_de_luz, conta_de_agua, despesas, investimentos, happy_hours):\n",
    "    meu_orcamento = salario + investimentos - (happy_hours + conta_de_luz + conta_de_agua + despesas)\n",
    "    return meu_orcamento\n",
    "\n",
    "orcamento_do_mes = orcamento_mensal(10000, 500, 400, 500, 3000, 10000)\n",
    "\n",
    "print(orcamento_do_mes)\n",
    "if orcamento_do_mes > 5000:\n",
    "    print(\"Para este mês você está acima do planejado. Continue assim\")\n",
    "elif orcamento_do_mes >= 2500 and orcamento_do_mes <= 4999:\n",
    "    print(\"Para este mês você está dentro do planejado\")\n",
    "else:\n",
    "    print(\"Você não atingiu a meta de orcamento mensal\")"
   ]
  },
  {
   "cell_type": "markdown",
   "metadata": {},
   "source": [
    "### Tabela com os operadores de comparacao "
   ]
  },
  {
   "cell_type": "markdown",
   "metadata": {},
   "source": [
    "![operadores_de_comparacao](images/operadores_de_comparacao.PNG \"operadores_de_comparacao\")"
   ]
  },
  {
   "cell_type": "markdown",
   "metadata": {},
   "source": [
    "## **3.4 Expressão condicional**"
   ]
  },
  {
   "cell_type": "markdown",
   "metadata": {},
   "source": [
    "## Em Python possuimos uma maneira mais simples de realizar uma ou mais comparacoes usando <font color='red'> **Expressões condicionais**</font>"
   ]
  },
  {
   "cell_type": "markdown",
   "metadata": {},
   "source": [
    "### Suponhamos que desejamos verificar se um numero é par ou ímpar.\n",
    "### Do jeito tradicional fariamos:"
   ]
  },
  {
   "cell_type": "code",
   "execution_count": 112,
   "metadata": {},
   "outputs": [
    {
     "name": "stdout",
     "output_type": "stream",
     "text": [
      "64\n",
      "Par\n"
     ]
    }
   ],
   "source": [
    "import random as rd\n",
    "\n",
    "def numero_aleatorio():\n",
    "    return rd.randint(1, 100)\n",
    "\n",
    "numero = numero_aleatorio()\n",
    "\n",
    "print(numero)\n",
    "\n",
    "if numero %2 == 0:\n",
    "    print(\"Par\")\n",
    "else:\n",
    "    print(\"Ímpar\")"
   ]
  },
  {
   "cell_type": "markdown",
   "metadata": {},
   "source": [
    "### Com a expressão condicional podemos fazer a comparacao em apenas uma linha:"
   ]
  },
  {
   "cell_type": "code",
   "execution_count": 125,
   "metadata": {},
   "outputs": [
    {
     "name": "stdout",
     "output_type": "stream",
     "text": [
      "90\n",
      "par\n"
     ]
    }
   ],
   "source": [
    "import random as rd\n",
    "\n",
    "def numero_aleatorio():\n",
    "    return rd.randint(1, 100)\n",
    "\n",
    "numero = numero_aleatorio()\n",
    "\n",
    "print(numero)\n",
    "\n",
    "print(\"par\" if numero % 2 == 0 else \"impar\")"
   ]
  },
  {
   "cell_type": "markdown",
   "metadata": {},
   "source": [
    "---"
   ]
  },
  {
   "cell_type": "markdown",
   "metadata": {},
   "source": [
    "# **4. Estruturas de Repetição** ⚡"
   ]
  },
  {
   "cell_type": "markdown",
   "metadata": {},
   "source": [
    "<img src=\"images/taxa_de_cambio.jpeg\" alt=\"Drawing\" style=\"width: 400px;\"/>"
   ]
  },
  {
   "cell_type": "markdown",
   "metadata": {},
   "source": [
    "### Iterar é a ação de repetir algo. <br> \n",
    "### Na programação, iteração significa a repetição de um conjunto de instruções por uma quantidade finita de vezes ou então, enquanto uma condição seja aceita. <br>\n",
    "### Ao desenvolvermos uma aplicação é comum haver a necessidade de executarmos uma mesma instrução por várias vezes. <br><br> Na linguagem python temos duas estruturas de repeticao, que são elas: <br>\n",
    "- ### <font color='red'> **for:** </font> O laço **for** geralmente é utilizado quando <font color='red'> **se sabe o número de iterações** </font> de antemão.\n",
    "- ### <font color='red'> **while:** </font> O laço **while** geralmente é utilizado quando <font color='red'> **se tem uma idéia** </font> sobre a faixa de valores em que se deseja realizar a iteração mas não se sabe ao certo o número exato de iterações que ocorrem."
   ]
  },
  {
   "cell_type": "markdown",
   "metadata": {},
   "source": [
    "## **4.1 estrutura de repetição: for**"
   ]
  },
  {
   "cell_type": "markdown",
   "metadata": {},
   "source": [
    "### A estrutura de repetição <font color='red'> **for** </font> permite executar um bloco de códigos repetidas vezes até uma determinada condicao de parada. <br> \n",
    "### Na linguagem Python, ela é utilizada para percorrer elementos em sequência, como uma string, uma lista, uma tupla ou objetos iteráveis."
   ]
  },
  {
   "cell_type": "markdown",
   "metadata": {},
   "source": [
    "### Iterando valores dentro de um intervalo"
   ]
  },
  {
   "cell_type": "code",
   "execution_count": 126,
   "metadata": {},
   "outputs": [
    {
     "name": "stdout",
     "output_type": "stream",
     "text": [
      "0 SP\n",
      "1 RJ\n",
      "2 MG\n"
     ]
    }
   ],
   "source": [
    "estados = [\"SP\", \"RJ\", \"MG\", \"MS\", \"RN\"]\n",
    "# comeca em 0, 1, 2 e nao ating o 3 \n",
    "for i in range(3):\n",
    "    print(i, estados[i])"
   ]
  },
  {
   "cell_type": "markdown",
   "metadata": {},
   "source": [
    "### Percorrendo uma lista"
   ]
  },
  {
   "cell_type": "code",
   "execution_count": 127,
   "metadata": {},
   "outputs": [
    {
     "name": "stdout",
     "output_type": "stream",
     "text": [
      "Abacaxi\n",
      "Morango\n",
      "Uva\n"
     ]
    }
   ],
   "source": [
    "frutas = ['Abacaxi', 'Morango', 'Uva']\n",
    "for fruta in frutas:\n",
    "    print(fruta)"
   ]
  },
  {
   "cell_type": "markdown",
   "metadata": {},
   "source": [
    "### Percorrendo uma tupla"
   ]
  },
  {
   "cell_type": "code",
   "execution_count": 131,
   "metadata": {},
   "outputs": [
    {
     "name": "stdout",
     "output_type": "stream",
     "text": [
      "moto\n",
      "carro\n",
      "onibus\n",
      "lancha\n"
     ]
    }
   ],
   "source": [
    "veiculos = ('moto', 'carro', 'onibus', 'lancha')\n",
    "for veiculo in veiculos:\n",
    "    print(veiculo)"
   ]
  },
  {
   "cell_type": "markdown",
   "metadata": {},
   "source": [
    "### Percorrendo um dicionário"
   ]
  },
  {
   "cell_type": "code",
   "execution_count": 132,
   "metadata": {},
   "outputs": [
    {
     "name": "stdout",
     "output_type": "stream",
     "text": [
      "Mateus: 1234-5678\n",
      "Lucas: 9999-9999\n",
      "Ana: 8765-4321\n",
      "João: 8887-7778\n"
     ]
    }
   ],
   "source": [
    "contatos = {'Mateus': '1234-5678', 'Lucas': '9999-9999',\n",
    "                    'Ana': '8765-4321', 'João': '8887-7778'}\n",
    "\n",
    "for nome, valor in contatos.items():\n",
    "    print(f\"{nome}: {valor}\")"
   ]
  },
  {
   "cell_type": "markdown",
   "metadata": {},
   "source": [
    "### Percorrendo uma string"
   ]
  },
  {
   "cell_type": "code",
   "execution_count": 133,
   "metadata": {},
   "outputs": [
    {
     "name": "stdout",
     "output_type": "stream",
     "text": [
      "t\n",
      "e\n",
      "c\n",
      "n\n",
      "o\n",
      "l\n",
      "o\n",
      "g\n",
      "i\n",
      "a\n"
     ]
    }
   ],
   "source": [
    "palavra = \"tecnologia\"\n",
    "for letra in palavra:\n",
    "    print(letra)"
   ]
  },
  {
   "cell_type": "markdown",
   "metadata": {},
   "source": [
    "### Para parar um loop antes da hora podemos utilizar a instrucao <font color=\"red\"> **break** </font>"
   ]
  },
  {
   "cell_type": "code",
   "execution_count": 134,
   "metadata": {},
   "outputs": [
    {
     "name": "stdout",
     "output_type": "stream",
     "text": [
      "3\n",
      "5\n",
      "6\n",
      "7\n"
     ]
    }
   ],
   "source": [
    "numeros = [3,5,6,7,1,100,1000,10000]\n",
    "for numero in numeros:\n",
    "    if numero >= 3:\n",
    "        print(numero)\n",
    "    else:\n",
    "        break"
   ]
  },
  {
   "cell_type": "markdown",
   "metadata": {},
   "source": [
    "### Para pular uma iteracao podemos utilizar a instrucao <font color = 'red'> **continue** </font>"
   ]
  },
  {
   "cell_type": "markdown",
   "metadata": {},
   "source": [
    "### Considere a situação em que você precisa escrever um programa que imprime o número de 1 a 10 e não 6. <br>\n",
    "### É especificado que você deve fazer isso usando loop e apenas um loop pode ser usado. Aí vem o uso da instrução continue. <br> \n",
    "### O que podemos fazer aqui é executar um loop de 1 a 10 e sempre que temos que comparar o valor do iterador com 6. Se for igual a 6 usaremos a instrução **continue** para continuar para a próxima iteração sem imprimir qualquer coisa, caso contrário, imprimiremos o valor."
   ]
  },
  {
   "cell_type": "code",
   "execution_count": 137,
   "metadata": {},
   "outputs": [
    {
     "name": "stdout",
     "output_type": "stream",
     "text": [
      "1 2 3 4 5 7 8 9 10 "
     ]
    }
   ],
   "source": [
    "for i in range(1, 11):\n",
    "    if i == 6:\n",
    "        continue\n",
    "    else:\n",
    "        print(i, end=\" \")"
   ]
  },
  {
   "cell_type": "markdown",
   "metadata": {},
   "source": [
    "## **4.2 Estruturas de repeticao while**"
   ]
  },
  {
   "cell_type": "markdown",
   "metadata": {},
   "source": [
    "### A estrutura de repeticao while faz com que um conjunto de instruções seja executado enquanto uma condição é atendida. <br> \n",
    "### Quando o resultado dessa condição passa a ser falso, a execução do loop é interrompida"
   ]
  },
  {
   "cell_type": "code",
   "execution_count": 138,
   "metadata": {},
   "outputs": [
    {
     "name": "stdout",
     "output_type": "stream",
     "text": [
      "0\n",
      "1\n",
      "2\n",
      "3\n",
      "4\n"
     ]
    }
   ],
   "source": [
    "contador = 0\n",
    "while (contador < 5):\n",
    "       print(contador)\n",
    "       contador = contador + 1"
   ]
  },
  {
   "cell_type": "markdown",
   "metadata": {},
   "source": [
    "### imprimindo todas as letras da string, exceto *m* e *p*"
   ]
  },
  {
   "cell_type": "code",
   "execution_count": 139,
   "metadata": {},
   "outputs": [
    {
     "name": "stdout",
     "output_type": "stream",
     "text": [
      "Letra atual : c\n",
      "Letra atual : o\n",
      "Letra atual : u\n",
      "Letra atual : t\n",
      "Letra atual : a\n",
      "Letra atual : d\n",
      "Letra atual : o\n",
      "Letra atual : r\n"
     ]
    }
   ],
   "source": [
    "i = 0\n",
    "a = 'computador'\n",
    "\n",
    "while i < len(a):\n",
    "    if a[i] in ['m', 'p']:\n",
    "        i = i + 1\n",
    "        continue\n",
    "\n",
    "    print('Letra atual :', a[i])\n",
    "    i += 1"
   ]
  },
  {
   "cell_type": "markdown",
   "metadata": {},
   "source": [
    "### Mesmo exemplo com break"
   ]
  },
  {
   "cell_type": "code",
   "execution_count": 1,
   "metadata": {},
   "outputs": [
    {
     "name": "stdout",
     "output_type": "stream",
     "text": [
      "Letra atual : c\n",
      "Letra atual : o\n"
     ]
    }
   ],
   "source": [
    "i = 0\n",
    "a = 'computador'\n",
    "\n",
    "while i < len(a):\n",
    "    if a[i] in ['m', 'p']:\n",
    "        i += 1\n",
    "        break\n",
    "\n",
    "    print('Letra atual :', a[i])\n",
    "    i += 1"
   ]
  },
  {
   "cell_type": "markdown",
   "metadata": {},
   "source": [
    "### loops infinitos"
   ]
  },
  {
   "cell_type": "code",
   "execution_count": null,
   "metadata": {},
   "outputs": [],
   "source": [
    "import time\n",
    "valor = True\n",
    "while (valor) == True:\n",
    "    print(\"Voce não pode me parar!\")\n",
    "    time.sleep(0.5)"
   ]
  },
  {
   "cell_type": "markdown",
   "metadata": {},
   "source": [
    "### O loop é infinito pois a variavel *valor* sempre sera True\n",
    "### Para quebrar o loop poderiamos trocar o valor da variavel **valor** para False"
   ]
  },
  {
   "cell_type": "code",
   "execution_count": 142,
   "metadata": {},
   "outputs": [
    {
     "name": "stdout",
     "output_type": "stream",
     "text": [
      "Voce me parou!\n"
     ]
    }
   ],
   "source": [
    "valor = True\n",
    "while (valor) == True:\n",
    "    print(\"Voce me parou!\")\n",
    "    valor = False"
   ]
  },
  {
   "cell_type": "code",
   "execution_count": 1,
   "metadata": {},
   "outputs": [],
   "source": [
    "usuario = input(\"Digite o nome do usuario: \")\n",
    "condicao_parada = False\n",
    "while condicao_parada == False:\n",
    "    deseja_continuar = input('Digite 1 para continuar ou qualquer outro valor para parar')\n",
    "    if deseja_continuar == \"1\":\n",
    "        input(\"Digite um novo usuario\")\n",
    "    else:\n",
    "        condicao_parada = True"
   ]
  },
  {
   "cell_type": "markdown",
   "metadata": {},
   "source": [
    "## **4.3 list comprehensions (compreensão de listas)**"
   ]
  },
  {
   "cell_type": "markdown",
   "metadata": {},
   "source": [
    "### Assim como para estruturas condicionais temos a Expressão condicional para realizar comparacoes em uma linha temos tambem o que é chamado de <font color='red'> **compreensão de listas** </font>, para construirmos listas e tuplas com apenas uma linha."
   ]
  },
  {
   "cell_type": "markdown",
   "metadata": {},
   "source": [
    "### Exemplo: <br>\n",
    "### Dado o seguinte código, que transforma os itens da lista em maiúsculos:"
   ]
  },
  {
   "cell_type": "code",
   "execution_count": 147,
   "metadata": {},
   "outputs": [
    {
     "name": "stdout",
     "output_type": "stream",
     "text": [
      "['BATATA', 'MOUSE', 'CELULAR', 'UNIPINHAL', 'AGF']\n"
     ]
    }
   ],
   "source": [
    "palavras = ['batata', 'mouse', 'celular' ,'unipinhal', 'agf']\n",
    "resultado = []\n",
    "\n",
    "for palavra in palavras:\n",
    "  resultado.append(palavra.upper())\n",
    "print(resultado)"
   ]
  },
  {
   "cell_type": "markdown",
   "metadata": {},
   "source": [
    "### Pode ser executado da mesma forma utilizando list comprehensions:"
   ]
  },
  {
   "cell_type": "code",
   "execution_count": 148,
   "metadata": {},
   "outputs": [
    {
     "name": "stdout",
     "output_type": "stream",
     "text": [
      "['BATATA', 'MOUSE', 'CELULAR', 'UNIPINHAL', 'AGF']\n"
     ]
    }
   ],
   "source": [
    "palavras = ['batata', 'mouse', 'celular' ,'unipinhal', 'agf']\n",
    "resultado = [palavra.upper() for palavra in palavras]\n",
    "\n",
    "print(resultado)"
   ]
  },
  {
   "cell_type": "markdown",
   "metadata": {},
   "source": [
    "### Podemos incluir condicoes em nossos programas\n",
    "### Suponhamos que tenhamos uma lista de marcas te telefone e desejamos construir uma nova lista apenas com as marcas que possuem mais de 6 letras"
   ]
  },
  {
   "cell_type": "code",
   "execution_count": 149,
   "metadata": {},
   "outputs": [
    {
     "name": "stdout",
     "output_type": "stream",
     "text": [
      "['Samsung', 'Motorola']\n"
     ]
    }
   ],
   "source": [
    "marcas = ['Samsung', 'Apple', 'Xiaomi', 'Huawei', 'Motorola']\n",
    "nomes = [marca for marca in marcas if len(marca) > 6]\n",
    "\n",
    "print(nomes)"
   ]
  },
  {
   "cell_type": "markdown",
   "metadata": {},
   "source": [
    "### Retornando lista de numeros pares no intervalo de 0 a 50"
   ]
  },
  {
   "cell_type": "code",
   "execution_count": 150,
   "metadata": {},
   "outputs": [
    {
     "name": "stdout",
     "output_type": "stream",
     "text": [
      "[0, 2, 4, 6, 8, 10, 12, 14, 16, 18, 20, 22, 24, 26, 28, 30, 32, 34, 36, 38, 40, 42, 44, 46, 48, 50]\n"
     ]
    }
   ],
   "source": [
    "pares = [numero for numero in range(51) if numero % 2 == 0]\n",
    "print(pares)"
   ]
  },
  {
   "cell_type": "markdown",
   "metadata": {},
   "source": [
    "## **4.4 Single statement while block (Declaração única while em um bloco)**"
   ]
  },
  {
   "cell_type": "markdown",
   "metadata": {},
   "source": [
    "### Da mesma forma que temos uma forma de realizar as iteracoes usando a estrutura for temos tambem uma maneira de fazer o mesmo com a estrutura de repeticao while"
   ]
  },
  {
   "cell_type": "code",
   "execution_count": 151,
   "metadata": {},
   "outputs": [
    {
     "name": "stdout",
     "output_type": "stream",
     "text": [
      "while em uma linha\n",
      "while em uma linha\n",
      "while em uma linha\n",
      "while em uma linha\n",
      "while em uma linha\n",
      "while em uma linha\n"
     ]
    }
   ],
   "source": [
    "contagem = 0\n",
    "while (contagem < 6): contagem += 1; print(\"while em uma linha\")"
   ]
  },
  {
   "cell_type": "markdown",
   "metadata": {},
   "source": [
    "---"
   ]
  },
  {
   "cell_type": "markdown",
   "metadata": {},
   "source": [
    "# **5. Funcoes**  ⚡"
   ]
  },
  {
   "cell_type": "markdown",
   "metadata": {},
   "source": [
    "<img src=\"images/funcao.jpg\" alt=\"Drawing\" style=\"width: 400px;\"/>"
   ]
  },
  {
   "cell_type": "markdown",
   "metadata": {},
   "source": [
    "### Na programação, funções são blocos de código que realizam determinadas tarefas que normalmente precisam ser executadas diversas vezes dentro de uma aplicação. <br> \n",
    "### Quando surge essa necessidade, para que várias instruções não precisem ser repetidas, elas são agrupadas em uma função, à qual é dado um nome e que poderá ser chamada/executada em diferentes partes do programa."
   ]
  },
  {
   "cell_type": "markdown",
   "metadata": {},
   "source": [
    "## **5.1 Criando funções**"
   ]
  },
  {
   "cell_type": "markdown",
   "metadata": {},
   "source": [
    "### A sintaxe de uma função é definida por três partes: \n",
    " - ### <font color='red'> **nome, parâmetros (opcionais) e corpo** </font>, o qual agrupa uma sequência de linhas que representa algum comportamento."
   ]
  },
  {
   "cell_type": "markdown",
   "metadata": {},
   "source": [
    "### Exemplo:"
   ]
  },
  {
   "cell_type": "code",
   "execution_count": 153,
   "metadata": {},
   "outputs": [],
   "source": [
    "def nome_pessoa(nome):\n",
    "    print(\"Meu nome é:\", nome)"
   ]
  },
  {
   "cell_type": "markdown",
   "metadata": {},
   "source": [
    "### Para executar a função, de forma semelhante ao que ocorre em outras linguagens, devemos simplesmente chamar seu nome e passar os parâmetros esperados entre parênteses, conforme o código a seguir."
   ]
  },
  {
   "cell_type": "code",
   "execution_count": 154,
   "metadata": {},
   "outputs": [
    {
     "name": "stdout",
     "output_type": "stream",
     "text": [
      "Meu nome é: Leticia\n"
     ]
    }
   ],
   "source": [
    "nome_pessoa(\"Leticia\")"
   ]
  },
  {
   "cell_type": "markdown",
   "metadata": {},
   "source": [
    "- ### A função de nome **nome_pessoa**, tem como objetivo imprimir o nome que lhe é passado por <font color='red'> **parâmetro** </font> (também - chamado de <font color='red'> **argumento** </font>). <br>\n",
    "- ### A palavra reservada <font color='red'> **def,** </font> na primeira linha, explicita a definição da função naquele ponto. <br>\n",
    "- ### Em seguida, entre parênteses, temos o <font color='red'> **parâmetro nome** </font>. <br>\n",
    "- ### Ainda na mesma linha, observe a utilização dos dois pontos (:), que indicam que o código identado nas linhas abaixo faz parte da função que está sendo criada."
   ]
  },
  {
   "cell_type": "markdown",
   "metadata": {},
   "source": [
    "### Caso seja necessário, também é possível definir funções com nenhum ou vários argumentos"
   ]
  },
  {
   "cell_type": "code",
   "execution_count": 2,
   "metadata": {},
   "outputs": [],
   "source": [
    "def pessoa(nome, ano_nascimento, ano_atual, trabalho):\n",
    "   idade = ano_atual - ano_nascimento\n",
    "   print ('Olá, meu nome é ' + str(nome.capitalize()) + 'tenho' + \" \" +  str(idade) + \" \"+ 'anos e trabalho como' + str(trabalho))"
   ]
  },
  {
   "cell_type": "markdown",
   "metadata": {},
   "source": [
    "### No código acima pudemos perceber que a funcao foi declarada mas nao ocorreu nada, isso se da porque para executar uma funcao precisamos chamar-lá após sua declaracao."
   ]
  },
  {
   "cell_type": "markdown",
   "metadata": {},
   "source": [
    "### Mais abaixo iremos utilizar uma mandeira muito mais pythonica de retornar um conjunto de strings utilizando <font color='red'> **f-strings formatting**</font>"
   ]
  },
  {
   "cell_type": "code",
   "execution_count": 3,
   "metadata": {},
   "outputs": [
    {
     "name": "stdout",
     "output_type": "stream",
     "text": [
      "Olá, meu nome é Mariatenho 23 anos e trabalho comoAnalista de sistemas\n"
     ]
    }
   ],
   "source": [
    "pessoa(\"maria\", 1998, 2021, \"Analista de sistemas\")"
   ]
  },
  {
   "cell_type": "markdown",
   "metadata": {},
   "source": [
    "## **5.2 Retorno de funções**"
   ]
  },
  {
   "cell_type": "markdown",
   "metadata": {},
   "source": [
    "### Assim como podem receber valores de entrada, as funções também podem produzir valores de saída, provenientes de determinadas operações. <br>\n",
    "### Nos exemplos anteriores, apenas imprimimos um valor com a função print, sem retornar explicitamente um resultado. <br>\n",
    "### Já no exemplo a seguir, temos uma função que faz o cálculo do salário e retorna o valor a ser pago conforme o número de horas trabalhadas. <br>"
   ]
  },
  {
   "cell_type": "code",
   "execution_count": 161,
   "metadata": {},
   "outputs": [
    {
     "name": "stdout",
     "output_type": "stream",
     "text": [
      "O valor de seus rendimentos é R$ 80.0\n"
     ]
    }
   ],
   "source": [
    "def calcular_pagamento(qtd_horas, valor_hora):\n",
    "  horas = float(qtd_horas)\n",
    "  taxa = float(valor_hora)\n",
    "  if horas <= 40:\n",
    "    salario = horas * taxa\n",
    "  else:\n",
    "    h_excd = horas - 40\n",
    "    salario = 40 * taxa + (h_excd * (1.5 * taxa))\n",
    "  return salario\n",
    "\n",
    "str_horas= input('Digite as horas: ')\n",
    "str_taxa= input('Digite a taxa: ')\n",
    "total_salario = calcular_pagamento(str_horas, str_taxa)\n",
    "print('O valor de seus rendimentos é R$',total_salario)"
   ]
  },
  {
   "cell_type": "markdown",
   "metadata": {},
   "source": [
    "- ### Na linha 1, a função **calcular_pagamento()** recebe dois parâmetros, *qtd_horas* e *valor_hora*, que representam, respectivamente, a quantidade de horas a serem calculadas e o valor da hora. <br>\n",
    "- ### Na quarta linha, verificamos se a quantidade de horas trabalhadas é menor ou igual a 40.<br>\n",
    "- ### Caso seja verdadeiro, na linha 5 calculamos o valor do salário apenas multiplicando a quantidade de horas pelo valor de cada hora trabalhada. <br>\n",
    "- ### Se a quantidade for maior que 40 (linha 6), adicionamos ao salário um valor adicional pelas horas extras. \n",
    "- ### Por fim, na linha 9 retornamos o resultado do cálculo (contido na variável salario) com a instrução return. <br>\n"
   ]
  },
  {
   "cell_type": "markdown",
   "metadata": {},
   "source": [
    "## **5.3 Parâmetros nomeados**"
   ]
  },
  {
   "cell_type": "markdown",
   "metadata": {},
   "source": [
    "### As funções em Python tem suporte a parâmetros nomeados. <br> \n",
    "### O exemplo a seguir mostra um caso onde podemos usar nomes nos parâmetros da função."
   ]
  },
  {
   "cell_type": "code",
   "execution_count": 164,
   "metadata": {},
   "outputs": [
    {
     "name": "stdout",
     "output_type": "stream",
     "text": [
      "O valor a ser recebido é: R$ 5630.0\n"
     ]
    }
   ],
   "source": [
    "def salario_receber(sal_bruto, plano_saude, outros_descontos=0):\n",
    "    desc_inss = sal_bruto * 0.11\n",
    "    return sal_bruto - (desc_inss + plano_saude + outros_descontos)\n",
    "\n",
    "salario_empregado = salario_receber(plano_saude = 200, sal_bruto = 7000)\n",
    "print(f'O valor a ser recebido é: R$ {round(salario_empregado, 2)}')"
   ]
  },
  {
   "cell_type": "markdown",
   "metadata": {},
   "source": [
    "### Como mostrado no exemplo anterior, quando nomeamos os parametros da funcao não precisamos necessariamente declarar os valores na ordem em que os parametros foram criados. \n",
    "### No exemplo anterior, declaramos *sal_bruto* antes de *plano_saude*, no entanto, quando passamos os nomes declaramos na ordem inversa."
   ]
  },
  {
   "cell_type": "markdown",
   "metadata": {},
   "source": [
    "## **5.4 Funções builtin**"
   ]
  },
  {
   "cell_type": "markdown",
   "metadata": {},
   "source": [
    "### A biblioteca do Python contém vários componentes embutidos, que podem ser utilizados em qualquer parte do código sem a necessidade de um import.\n",
    "### Um exemplo disso é a função *max()*, que retorna o maior elemento de uma lista que lhe é passada por parâmetro e a funcao *all()*, que passado um conjunto de itens retorna *True* se todos elementos do conjunto forem *True*."
   ]
  },
  {
   "cell_type": "code",
   "execution_count": 165,
   "metadata": {},
   "outputs": [
    {
     "name": "stdout",
     "output_type": "stream",
     "text": [
      "3\n",
      "True\n"
     ]
    }
   ],
   "source": [
    "maior_numero = max(1, 2, 3)\n",
    "lista = [True,True,True]\n",
    "print(maior_numero)\n",
    "print(all(lista))"
   ]
  },
  {
   "cell_type": "code",
   "execution_count": 166,
   "metadata": {},
   "outputs": [
    {
     "name": "stdout",
     "output_type": "stream",
     "text": [
      "False\n"
     ]
    }
   ],
   "source": [
    "lista2 = [True,False,True]\n",
    "print(all(lista2))"
   ]
  },
  {
   "cell_type": "markdown",
   "metadata": {},
   "source": [
    "## **5.5 importando novos módulos**"
   ]
  },
  {
   "cell_type": "markdown",
   "metadata": {},
   "source": [
    "### Para importarmos novos módulos utilizamos <br>\n",
    "### import (nome do pacote)"
   ]
  },
  {
   "cell_type": "code",
   "execution_count": 2,
   "metadata": {},
   "outputs": [
    {
     "name": "stdout",
     "output_type": "stream",
     "text": [
      "5.0\n"
     ]
    }
   ],
   "source": [
    "import math\n",
    "print(math.sqrt(25))"
   ]
  },
  {
   "cell_type": "markdown",
   "metadata": {},
   "source": [
    "### O código acima importará todos os módulos da biblioteca math <br>\n",
    "### Para importar apenas o necessário utilizamos *from*"
   ]
  },
  {
   "cell_type": "markdown",
   "metadata": {},
   "source": [
    "### from (nome do pacote) import (nome do item)\n",
    "### O código abaixo importará o módulo sqrt do pacote math."
   ]
  },
  {
   "cell_type": "code",
   "execution_count": 3,
   "metadata": {},
   "outputs": [
    {
     "name": "stdout",
     "output_type": "stream",
     "text": [
      "5.0\n"
     ]
    }
   ],
   "source": [
    "from math import sqrt\n",
    "print(sqrt(25))"
   ]
  },
  {
   "cell_type": "markdown",
   "metadata": {},
   "source": [
    "### Observe que ao utilizar from (nome do pacote) import (nome do item), o item pode ser um subpacote, submódulo, classe, função ou variável."
   ]
  },
  {
   "cell_type": "markdown",
   "metadata": {},
   "source": [
    "---"
   ]
  },
  {
   "cell_type": "markdown",
   "metadata": {},
   "source": [
    "# **6. Surpresa** ⚡"
   ]
  },
  {
   "cell_type": "markdown",
   "metadata": {},
   "source": [
    "## **A AGF Equipamentos esta a procura de um estagiário para a área de TI**"
   ]
  },
  {
   "cell_type": "markdown",
   "metadata": {},
   "source": [
    "<img src=\"images/Vaga-de-Trabalho.jfif\" alt=\"Drawing\" style=\"width: 400px;\"/>"
   ]
  },
  {
   "cell_type": "markdown",
   "metadata": {},
   "source": [
    "## **A quem tiver interesse, vocês podem mandar os curriculos neste email ou através de nosso site**:"
   ]
  },
  {
   "cell_type": "markdown",
   "metadata": {},
   "source": [
    "### > 💬 **Email:** rh@agfequipamentos.com.br <br>\n",
    "### > 🌃 **Site:** www.agfequipamentos.com.br/trabalheconosco <br>"
   ]
  }
 ],
 "metadata": {
  "interpreter": {
   "hash": "3ab92b8776bd6db82bb5c0767e875b4073e50e02af11cd0b3337cf610213e0ce"
  },
  "kernelspec": {
   "display_name": "Python 3.9.7 64-bit",
   "name": "python3"
  },
  "language_info": {
   "codemirror_mode": {
    "name": "ipython",
    "version": 3
   },
   "file_extension": ".py",
   "mimetype": "text/x-python",
   "name": "python",
   "nbconvert_exporter": "python",
   "pygments_lexer": "ipython3",
   "version": "3.9.7"
  }
 },
 "nbformat": 4,
 "nbformat_minor": 4
}
